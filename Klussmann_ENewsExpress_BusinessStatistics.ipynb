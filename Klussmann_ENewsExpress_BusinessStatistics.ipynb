{
  "nbformat": 4,
  "nbformat_minor": 5,
  "metadata": {
    "kernelspec": {
      "display_name": "Python 3",
      "language": "python",
      "name": "python3"
    },
    "language_info": {
      "codemirror_mode": {
        "name": "ipython",
        "version": 3
      },
      "file_extension": ".py",
      "mimetype": "text/x-python",
      "name": "python",
      "nbconvert_exporter": "python",
      "pygments_lexer": "ipython3",
      "version": "3.8.8"
    },
    "colab": {
      "provenance": [],
      "include_colab_link": true
    }
  },
  "cells": [
    {
      "cell_type": "markdown",
      "metadata": {
        "id": "view-in-github",
        "colab_type": "text"
      },
      "source": [
        "<a href=\"https://colab.research.google.com/github/TKLUSSMANN/ENewsExpress/blob/main/Klussmann_ENewsExpress_BusinessStatistics.ipynb\" target=\"_parent\"><img src=\"https://colab.research.google.com/assets/colab-badge.svg\" alt=\"Open In Colab\"/></a>"
      ]
    },
    {
      "cell_type": "markdown",
      "metadata": {
        "id": "6yDxo9u0d9Na"
      },
      "source": [
        "# Project Business Statistics: E-news Express\n",
        "\n",
        "**Marks: 60**"
      ],
      "id": "6yDxo9u0d9Na"
    },
    {
      "cell_type": "markdown",
      "metadata": {
        "id": "SrLd-ICEmPSD"
      },
      "source": [
        "## Define Problem Statement and Objectives"
      ],
      "id": "SrLd-ICEmPSD"
    },
    {
      "cell_type": "markdown",
      "source": [
        "### Context\n",
        "The advent of e-news, or electronic news, portals has offered us a great opportunity to quickly get updates on the day-to-day events occurring globally. The information on these portals is retrieved electronically from online databases, processed using a variety of software, and then transmitted to the users. There are multiple advantages of transmitting new electronically, like faster access to the content and the ability to utilize different technologies such as audio, graphics, video, and other interactive elements that are either not being used or aren’t common yet in traditional newspapers.\n",
        "\n",
        "E-news Express, an online news portal, aims to expand its business by acquiring new subscribers. With every visitor to the website taking certain actions based on their interest, the company plans to analyze these actions to understand user interests and determine how to drive better engagement. The executives at E-news Express are of the opinion that there has been a decline in new monthly subscribers compared to the past year because the current webpage is not designed well enough in terms of the outline & recommended content to keep customers engaged long enough to make a decision to subscribe.\n",
        "\n",
        "\n",
        "\n",
        "### Objective\n",
        "\n",
        "The design team of the company has researched and created a new landing page that has a new outline & more relevant content shown compared to the old page. In order to test the effectiveness of the new landing page in gathering new subscribers, the Data Science team conducted an experiment by randomly selecting 100 users and dividing them equally into two groups. The existing landing page was served to the first group (control group) and the new landing page to the second group (treatment group). Data regarding the interaction of users in both groups with the two versions of the landing page was collected. Being a data scientist in E-news Express, you have been asked to explore the data and perform a statistical analysis (at a significance level of 5%) to determine the effectiveness of the new landing page in gathering new subscribers for the news portal by answering the following questions:\n",
        "\n",
        "1. Do the users spend more time on the new landing page than on the existing landing page?\n",
        "2. Is the conversion rate (the proportion of users who visit the landing page and get converted) for the new page greater than the conversion rate for the old page?\n",
        "3. Does the converted status depend on the preferred language?\n",
        "4. Is the time spent on the new page the same for the different language users? \n",
        "\n",
        "# Data Description\n",
        "\n",
        "The data contains information regarding the interaction of users in both groups with the two versions of the landing page.\n",
        "\n",
        "### Data Dictionary\n",
        "\n",
        "1. user_id - Unique user ID of the person visiting the website\n",
        "2. group - Whether the user belongs to the first group (control) or the second group (treatment)\n",
        "3. landing_page - Whether the landing page is new or old\n",
        "4. time_spent_on_the_page - Time (in minutes) spent by the user on the landing page\n",
        "5. converted - Whether the user gets converted to a subscriber of the news portal or not\n",
        "6. language_preferred - Language chosen by the user to view the landing page"
      ],
      "metadata": {
        "id": "zj1JzEt0C1Nn"
      },
      "id": "zj1JzEt0C1Nn"
    },
    {
      "cell_type": "markdown",
      "source": [
        "### Abstract"
      ],
      "metadata": {
        "id": "SM-qC7uj9sa7"
      },
      "id": "SM-qC7uj9sa7"
    },
    {
      "cell_type": "markdown",
      "source": [
        "In this project, we used probability, probability distributions, central limit theorem, hypothesis testing, t-tests, z-tests, ANOVA and Chi-square testing to compare the effectiveness of the new landing page with the old one. The general conclusions were that the new landing page was effective in creating more subscriptions (Q1,Q2) and that language preference had no significant impact on subscription rate (Q3,Q4). Business recommendations were also made based on these conclusions."
      ],
      "metadata": {
        "id": "VAZ0KqGf-CCd"
      },
      "id": "VAZ0KqGf-CCd"
    },
    {
      "cell_type": "markdown",
      "metadata": {
        "id": "a6a3d218"
      },
      "source": [
        "## Import all the necessary libraries"
      ],
      "id": "a6a3d218"
    },
    {
      "cell_type": "code",
      "metadata": {
        "id": "658c5dec"
      },
      "source": [
        "#import the important packages\n",
        "import pandas as pd #library used for data manipulation and analysis\n",
        "import numpy as np # library used for working with arrays.\n",
        "import matplotlib.pyplot as plt # library for plots and visualisations\n",
        "import seaborn as sns # library for visualisations\n",
        "%matplotlib inline \n",
        "\n",
        "import scipy.stats as stats # this library contains a large number of probability distributions as well as a growing library of statistical functions."
      ],
      "id": "658c5dec",
      "execution_count": null,
      "outputs": []
    },
    {
      "cell_type": "markdown",
      "metadata": {
        "id": "6970dd99"
      },
      "source": [
        "## Reading the Data into a DataFrame"
      ],
      "id": "6970dd99"
    },
    {
      "cell_type": "code",
      "metadata": {
        "id": "d3b95640",
        "colab": {
          "base_uri": "https://localhost:8080/"
        },
        "outputId": "3fef5dc6-9646-42da-8c95-04ffc497418b"
      },
      "source": [
        "# allows google colab to access google drive\n",
        "from google.colab import drive\n",
        "drive.mount('/content/drive')"
      ],
      "id": "d3b95640",
      "execution_count": null,
      "outputs": [
        {
          "output_type": "stream",
          "name": "stdout",
          "text": [
            "Mounted at /content/drive\n"
          ]
        }
      ]
    },
    {
      "cell_type": "code",
      "source": [
        "# reads the data\n",
        "data = pd.read_csv('/content/drive/MyDrive/Python Course/abtest.csv')"
      ],
      "metadata": {
        "id": "u_bEp-9ZIfwS"
      },
      "id": "u_bEp-9ZIfwS",
      "execution_count": null,
      "outputs": []
    },
    {
      "cell_type": "markdown",
      "metadata": {
        "id": "9d75cfa2"
      },
      "source": [
        "## Explore the dataset and extract insights using Exploratory Data Analysis"
      ],
      "id": "9d75cfa2"
    },
    {
      "cell_type": "markdown",
      "metadata": {
        "id": "27201534"
      },
      "source": [
        "- Data Overview\n",
        "  - Viewing the first and last few rows of the dataset\n",
        "  - Checking the shape of the dataset\n",
        "  - Getting the statistical summary for the variables\n",
        "- Check for missing values\n",
        "- Check for duplicates"
      ],
      "id": "27201534"
    },
    {
      "cell_type": "code",
      "metadata": {
        "id": "e1ad11d4",
        "colab": {
          "base_uri": "https://localhost:8080/",
          "height": 206
        },
        "outputId": "edf06167-919c-4948-b0d3-46e52f8b9bcc"
      },
      "source": [
        "#returns the first 5 rows of the data set\n",
        "data.head()"
      ],
      "id": "e1ad11d4",
      "execution_count": null,
      "outputs": [
        {
          "output_type": "execute_result",
          "data": {
            "text/plain": [
              "   user_id      group landing_page  time_spent_on_the_page converted  \\\n",
              "0   546592    control          old                    3.48        no   \n",
              "1   546468  treatment          new                    7.13       yes   \n",
              "2   546462  treatment          new                    4.40        no   \n",
              "3   546567    control          old                    3.02        no   \n",
              "4   546459  treatment          new                    4.75       yes   \n",
              "\n",
              "  language_preferred  \n",
              "0            Spanish  \n",
              "1            English  \n",
              "2            Spanish  \n",
              "3             French  \n",
              "4            Spanish  "
            ],
            "text/html": [
              "\n",
              "  <div id=\"df-7e5f05f0-4da2-436b-9589-2ce482fdea2e\">\n",
              "    <div class=\"colab-df-container\">\n",
              "      <div>\n",
              "<style scoped>\n",
              "    .dataframe tbody tr th:only-of-type {\n",
              "        vertical-align: middle;\n",
              "    }\n",
              "\n",
              "    .dataframe tbody tr th {\n",
              "        vertical-align: top;\n",
              "    }\n",
              "\n",
              "    .dataframe thead th {\n",
              "        text-align: right;\n",
              "    }\n",
              "</style>\n",
              "<table border=\"1\" class=\"dataframe\">\n",
              "  <thead>\n",
              "    <tr style=\"text-align: right;\">\n",
              "      <th></th>\n",
              "      <th>user_id</th>\n",
              "      <th>group</th>\n",
              "      <th>landing_page</th>\n",
              "      <th>time_spent_on_the_page</th>\n",
              "      <th>converted</th>\n",
              "      <th>language_preferred</th>\n",
              "    </tr>\n",
              "  </thead>\n",
              "  <tbody>\n",
              "    <tr>\n",
              "      <th>0</th>\n",
              "      <td>546592</td>\n",
              "      <td>control</td>\n",
              "      <td>old</td>\n",
              "      <td>3.48</td>\n",
              "      <td>no</td>\n",
              "      <td>Spanish</td>\n",
              "    </tr>\n",
              "    <tr>\n",
              "      <th>1</th>\n",
              "      <td>546468</td>\n",
              "      <td>treatment</td>\n",
              "      <td>new</td>\n",
              "      <td>7.13</td>\n",
              "      <td>yes</td>\n",
              "      <td>English</td>\n",
              "    </tr>\n",
              "    <tr>\n",
              "      <th>2</th>\n",
              "      <td>546462</td>\n",
              "      <td>treatment</td>\n",
              "      <td>new</td>\n",
              "      <td>4.40</td>\n",
              "      <td>no</td>\n",
              "      <td>Spanish</td>\n",
              "    </tr>\n",
              "    <tr>\n",
              "      <th>3</th>\n",
              "      <td>546567</td>\n",
              "      <td>control</td>\n",
              "      <td>old</td>\n",
              "      <td>3.02</td>\n",
              "      <td>no</td>\n",
              "      <td>French</td>\n",
              "    </tr>\n",
              "    <tr>\n",
              "      <th>4</th>\n",
              "      <td>546459</td>\n",
              "      <td>treatment</td>\n",
              "      <td>new</td>\n",
              "      <td>4.75</td>\n",
              "      <td>yes</td>\n",
              "      <td>Spanish</td>\n",
              "    </tr>\n",
              "  </tbody>\n",
              "</table>\n",
              "</div>\n",
              "      <button class=\"colab-df-convert\" onclick=\"convertToInteractive('df-7e5f05f0-4da2-436b-9589-2ce482fdea2e')\"\n",
              "              title=\"Convert this dataframe to an interactive table.\"\n",
              "              style=\"display:none;\">\n",
              "        \n",
              "  <svg xmlns=\"http://www.w3.org/2000/svg\" height=\"24px\"viewBox=\"0 0 24 24\"\n",
              "       width=\"24px\">\n",
              "    <path d=\"M0 0h24v24H0V0z\" fill=\"none\"/>\n",
              "    <path d=\"M18.56 5.44l.94 2.06.94-2.06 2.06-.94-2.06-.94-.94-2.06-.94 2.06-2.06.94zm-11 1L8.5 8.5l.94-2.06 2.06-.94-2.06-.94L8.5 2.5l-.94 2.06-2.06.94zm10 10l.94 2.06.94-2.06 2.06-.94-2.06-.94-.94-2.06-.94 2.06-2.06.94z\"/><path d=\"M17.41 7.96l-1.37-1.37c-.4-.4-.92-.59-1.43-.59-.52 0-1.04.2-1.43.59L10.3 9.45l-7.72 7.72c-.78.78-.78 2.05 0 2.83L4 21.41c.39.39.9.59 1.41.59.51 0 1.02-.2 1.41-.59l7.78-7.78 2.81-2.81c.8-.78.8-2.07 0-2.86zM5.41 20L4 18.59l7.72-7.72 1.47 1.35L5.41 20z\"/>\n",
              "  </svg>\n",
              "      </button>\n",
              "      \n",
              "  <style>\n",
              "    .colab-df-container {\n",
              "      display:flex;\n",
              "      flex-wrap:wrap;\n",
              "      gap: 12px;\n",
              "    }\n",
              "\n",
              "    .colab-df-convert {\n",
              "      background-color: #E8F0FE;\n",
              "      border: none;\n",
              "      border-radius: 50%;\n",
              "      cursor: pointer;\n",
              "      display: none;\n",
              "      fill: #1967D2;\n",
              "      height: 32px;\n",
              "      padding: 0 0 0 0;\n",
              "      width: 32px;\n",
              "    }\n",
              "\n",
              "    .colab-df-convert:hover {\n",
              "      background-color: #E2EBFA;\n",
              "      box-shadow: 0px 1px 2px rgba(60, 64, 67, 0.3), 0px 1px 3px 1px rgba(60, 64, 67, 0.15);\n",
              "      fill: #174EA6;\n",
              "    }\n",
              "\n",
              "    [theme=dark] .colab-df-convert {\n",
              "      background-color: #3B4455;\n",
              "      fill: #D2E3FC;\n",
              "    }\n",
              "\n",
              "    [theme=dark] .colab-df-convert:hover {\n",
              "      background-color: #434B5C;\n",
              "      box-shadow: 0px 1px 3px 1px rgba(0, 0, 0, 0.15);\n",
              "      filter: drop-shadow(0px 1px 2px rgba(0, 0, 0, 0.3));\n",
              "      fill: #FFFFFF;\n",
              "    }\n",
              "  </style>\n",
              "\n",
              "      <script>\n",
              "        const buttonEl =\n",
              "          document.querySelector('#df-7e5f05f0-4da2-436b-9589-2ce482fdea2e button.colab-df-convert');\n",
              "        buttonEl.style.display =\n",
              "          google.colab.kernel.accessAllowed ? 'block' : 'none';\n",
              "\n",
              "        async function convertToInteractive(key) {\n",
              "          const element = document.querySelector('#df-7e5f05f0-4da2-436b-9589-2ce482fdea2e');\n",
              "          const dataTable =\n",
              "            await google.colab.kernel.invokeFunction('convertToInteractive',\n",
              "                                                     [key], {});\n",
              "          if (!dataTable) return;\n",
              "\n",
              "          const docLinkHtml = 'Like what you see? Visit the ' +\n",
              "            '<a target=\"_blank\" href=https://colab.research.google.com/notebooks/data_table.ipynb>data table notebook</a>'\n",
              "            + ' to learn more about interactive tables.';\n",
              "          element.innerHTML = '';\n",
              "          dataTable['output_type'] = 'display_data';\n",
              "          await google.colab.output.renderOutput(dataTable, element);\n",
              "          const docLink = document.createElement('div');\n",
              "          docLink.innerHTML = docLinkHtml;\n",
              "          element.appendChild(docLink);\n",
              "        }\n",
              "      </script>\n",
              "    </div>\n",
              "  </div>\n",
              "  "
            ]
          },
          "metadata": {},
          "execution_count": 4
        }
      ]
    },
    {
      "cell_type": "code",
      "source": [
        "#returns the last 5 rows of the data set\n",
        "data.tail()"
      ],
      "metadata": {
        "id": "qn5KGBRQKIUl",
        "colab": {
          "base_uri": "https://localhost:8080/",
          "height": 206
        },
        "outputId": "38489415-0b6a-41a9-d01e-3e660f435d50"
      },
      "id": "qn5KGBRQKIUl",
      "execution_count": null,
      "outputs": [
        {
          "output_type": "execute_result",
          "data": {
            "text/plain": [
              "    user_id      group landing_page  time_spent_on_the_page converted  \\\n",
              "95   546446  treatment          new                    5.15        no   \n",
              "96   546544    control          old                    6.52       yes   \n",
              "97   546472  treatment          new                    7.07       yes   \n",
              "98   546481  treatment          new                    6.20       yes   \n",
              "99   546483  treatment          new                    5.86       yes   \n",
              "\n",
              "   language_preferred  \n",
              "95            Spanish  \n",
              "96            English  \n",
              "97            Spanish  \n",
              "98            Spanish  \n",
              "99            English  "
            ],
            "text/html": [
              "\n",
              "  <div id=\"df-f25844a8-e278-4eeb-bdb9-c8bb5c63e1e4\">\n",
              "    <div class=\"colab-df-container\">\n",
              "      <div>\n",
              "<style scoped>\n",
              "    .dataframe tbody tr th:only-of-type {\n",
              "        vertical-align: middle;\n",
              "    }\n",
              "\n",
              "    .dataframe tbody tr th {\n",
              "        vertical-align: top;\n",
              "    }\n",
              "\n",
              "    .dataframe thead th {\n",
              "        text-align: right;\n",
              "    }\n",
              "</style>\n",
              "<table border=\"1\" class=\"dataframe\">\n",
              "  <thead>\n",
              "    <tr style=\"text-align: right;\">\n",
              "      <th></th>\n",
              "      <th>user_id</th>\n",
              "      <th>group</th>\n",
              "      <th>landing_page</th>\n",
              "      <th>time_spent_on_the_page</th>\n",
              "      <th>converted</th>\n",
              "      <th>language_preferred</th>\n",
              "    </tr>\n",
              "  </thead>\n",
              "  <tbody>\n",
              "    <tr>\n",
              "      <th>95</th>\n",
              "      <td>546446</td>\n",
              "      <td>treatment</td>\n",
              "      <td>new</td>\n",
              "      <td>5.15</td>\n",
              "      <td>no</td>\n",
              "      <td>Spanish</td>\n",
              "    </tr>\n",
              "    <tr>\n",
              "      <th>96</th>\n",
              "      <td>546544</td>\n",
              "      <td>control</td>\n",
              "      <td>old</td>\n",
              "      <td>6.52</td>\n",
              "      <td>yes</td>\n",
              "      <td>English</td>\n",
              "    </tr>\n",
              "    <tr>\n",
              "      <th>97</th>\n",
              "      <td>546472</td>\n",
              "      <td>treatment</td>\n",
              "      <td>new</td>\n",
              "      <td>7.07</td>\n",
              "      <td>yes</td>\n",
              "      <td>Spanish</td>\n",
              "    </tr>\n",
              "    <tr>\n",
              "      <th>98</th>\n",
              "      <td>546481</td>\n",
              "      <td>treatment</td>\n",
              "      <td>new</td>\n",
              "      <td>6.20</td>\n",
              "      <td>yes</td>\n",
              "      <td>Spanish</td>\n",
              "    </tr>\n",
              "    <tr>\n",
              "      <th>99</th>\n",
              "      <td>546483</td>\n",
              "      <td>treatment</td>\n",
              "      <td>new</td>\n",
              "      <td>5.86</td>\n",
              "      <td>yes</td>\n",
              "      <td>English</td>\n",
              "    </tr>\n",
              "  </tbody>\n",
              "</table>\n",
              "</div>\n",
              "      <button class=\"colab-df-convert\" onclick=\"convertToInteractive('df-f25844a8-e278-4eeb-bdb9-c8bb5c63e1e4')\"\n",
              "              title=\"Convert this dataframe to an interactive table.\"\n",
              "              style=\"display:none;\">\n",
              "        \n",
              "  <svg xmlns=\"http://www.w3.org/2000/svg\" height=\"24px\"viewBox=\"0 0 24 24\"\n",
              "       width=\"24px\">\n",
              "    <path d=\"M0 0h24v24H0V0z\" fill=\"none\"/>\n",
              "    <path d=\"M18.56 5.44l.94 2.06.94-2.06 2.06-.94-2.06-.94-.94-2.06-.94 2.06-2.06.94zm-11 1L8.5 8.5l.94-2.06 2.06-.94-2.06-.94L8.5 2.5l-.94 2.06-2.06.94zm10 10l.94 2.06.94-2.06 2.06-.94-2.06-.94-.94-2.06-.94 2.06-2.06.94z\"/><path d=\"M17.41 7.96l-1.37-1.37c-.4-.4-.92-.59-1.43-.59-.52 0-1.04.2-1.43.59L10.3 9.45l-7.72 7.72c-.78.78-.78 2.05 0 2.83L4 21.41c.39.39.9.59 1.41.59.51 0 1.02-.2 1.41-.59l7.78-7.78 2.81-2.81c.8-.78.8-2.07 0-2.86zM5.41 20L4 18.59l7.72-7.72 1.47 1.35L5.41 20z\"/>\n",
              "  </svg>\n",
              "      </button>\n",
              "      \n",
              "  <style>\n",
              "    .colab-df-container {\n",
              "      display:flex;\n",
              "      flex-wrap:wrap;\n",
              "      gap: 12px;\n",
              "    }\n",
              "\n",
              "    .colab-df-convert {\n",
              "      background-color: #E8F0FE;\n",
              "      border: none;\n",
              "      border-radius: 50%;\n",
              "      cursor: pointer;\n",
              "      display: none;\n",
              "      fill: #1967D2;\n",
              "      height: 32px;\n",
              "      padding: 0 0 0 0;\n",
              "      width: 32px;\n",
              "    }\n",
              "\n",
              "    .colab-df-convert:hover {\n",
              "      background-color: #E2EBFA;\n",
              "      box-shadow: 0px 1px 2px rgba(60, 64, 67, 0.3), 0px 1px 3px 1px rgba(60, 64, 67, 0.15);\n",
              "      fill: #174EA6;\n",
              "    }\n",
              "\n",
              "    [theme=dark] .colab-df-convert {\n",
              "      background-color: #3B4455;\n",
              "      fill: #D2E3FC;\n",
              "    }\n",
              "\n",
              "    [theme=dark] .colab-df-convert:hover {\n",
              "      background-color: #434B5C;\n",
              "      box-shadow: 0px 1px 3px 1px rgba(0, 0, 0, 0.15);\n",
              "      filter: drop-shadow(0px 1px 2px rgba(0, 0, 0, 0.3));\n",
              "      fill: #FFFFFF;\n",
              "    }\n",
              "  </style>\n",
              "\n",
              "      <script>\n",
              "        const buttonEl =\n",
              "          document.querySelector('#df-f25844a8-e278-4eeb-bdb9-c8bb5c63e1e4 button.colab-df-convert');\n",
              "        buttonEl.style.display =\n",
              "          google.colab.kernel.accessAllowed ? 'block' : 'none';\n",
              "\n",
              "        async function convertToInteractive(key) {\n",
              "          const element = document.querySelector('#df-f25844a8-e278-4eeb-bdb9-c8bb5c63e1e4');\n",
              "          const dataTable =\n",
              "            await google.colab.kernel.invokeFunction('convertToInteractive',\n",
              "                                                     [key], {});\n",
              "          if (!dataTable) return;\n",
              "\n",
              "          const docLinkHtml = 'Like what you see? Visit the ' +\n",
              "            '<a target=\"_blank\" href=https://colab.research.google.com/notebooks/data_table.ipynb>data table notebook</a>'\n",
              "            + ' to learn more about interactive tables.';\n",
              "          element.innerHTML = '';\n",
              "          dataTable['output_type'] = 'display_data';\n",
              "          await google.colab.output.renderOutput(dataTable, element);\n",
              "          const docLink = document.createElement('div');\n",
              "          docLink.innerHTML = docLinkHtml;\n",
              "          element.appendChild(docLink);\n",
              "        }\n",
              "      </script>\n",
              "    </div>\n",
              "  </div>\n",
              "  "
            ]
          },
          "metadata": {},
          "execution_count": 5
        }
      ]
    },
    {
      "cell_type": "code",
      "source": [
        "#returns the dimensions of the data set (rows, columns)\n",
        "data.shape"
      ],
      "metadata": {
        "id": "zGbjpxnkKMKz",
        "colab": {
          "base_uri": "https://localhost:8080/"
        },
        "outputId": "ccc51e85-afdf-4b9a-b0b9-8fa3187c1196"
      },
      "id": "zGbjpxnkKMKz",
      "execution_count": null,
      "outputs": [
        {
          "output_type": "execute_result",
          "data": {
            "text/plain": [
              "(100, 6)"
            ]
          },
          "metadata": {},
          "execution_count": 6
        }
      ]
    },
    {
      "cell_type": "code",
      "source": [
        "#returns an analysis of the categorical values in the data set\n",
        "data.describe(include = object)"
      ],
      "metadata": {
        "id": "bYU_P6yVORoA",
        "colab": {
          "base_uri": "https://localhost:8080/",
          "height": 175
        },
        "outputId": "81f47a88-f294-4adb-d165-792e378ca940"
      },
      "id": "bYU_P6yVORoA",
      "execution_count": null,
      "outputs": [
        {
          "output_type": "execute_result",
          "data": {
            "text/plain": [
              "          group landing_page converted language_preferred\n",
              "count       100          100       100                100\n",
              "unique        2            2         2                  3\n",
              "top     control          old       yes            Spanish\n",
              "freq         50           50        54                 34"
            ],
            "text/html": [
              "\n",
              "  <div id=\"df-95e673c9-4d8c-4e37-91f5-4bd28a710070\">\n",
              "    <div class=\"colab-df-container\">\n",
              "      <div>\n",
              "<style scoped>\n",
              "    .dataframe tbody tr th:only-of-type {\n",
              "        vertical-align: middle;\n",
              "    }\n",
              "\n",
              "    .dataframe tbody tr th {\n",
              "        vertical-align: top;\n",
              "    }\n",
              "\n",
              "    .dataframe thead th {\n",
              "        text-align: right;\n",
              "    }\n",
              "</style>\n",
              "<table border=\"1\" class=\"dataframe\">\n",
              "  <thead>\n",
              "    <tr style=\"text-align: right;\">\n",
              "      <th></th>\n",
              "      <th>group</th>\n",
              "      <th>landing_page</th>\n",
              "      <th>converted</th>\n",
              "      <th>language_preferred</th>\n",
              "    </tr>\n",
              "  </thead>\n",
              "  <tbody>\n",
              "    <tr>\n",
              "      <th>count</th>\n",
              "      <td>100</td>\n",
              "      <td>100</td>\n",
              "      <td>100</td>\n",
              "      <td>100</td>\n",
              "    </tr>\n",
              "    <tr>\n",
              "      <th>unique</th>\n",
              "      <td>2</td>\n",
              "      <td>2</td>\n",
              "      <td>2</td>\n",
              "      <td>3</td>\n",
              "    </tr>\n",
              "    <tr>\n",
              "      <th>top</th>\n",
              "      <td>control</td>\n",
              "      <td>old</td>\n",
              "      <td>yes</td>\n",
              "      <td>Spanish</td>\n",
              "    </tr>\n",
              "    <tr>\n",
              "      <th>freq</th>\n",
              "      <td>50</td>\n",
              "      <td>50</td>\n",
              "      <td>54</td>\n",
              "      <td>34</td>\n",
              "    </tr>\n",
              "  </tbody>\n",
              "</table>\n",
              "</div>\n",
              "      <button class=\"colab-df-convert\" onclick=\"convertToInteractive('df-95e673c9-4d8c-4e37-91f5-4bd28a710070')\"\n",
              "              title=\"Convert this dataframe to an interactive table.\"\n",
              "              style=\"display:none;\">\n",
              "        \n",
              "  <svg xmlns=\"http://www.w3.org/2000/svg\" height=\"24px\"viewBox=\"0 0 24 24\"\n",
              "       width=\"24px\">\n",
              "    <path d=\"M0 0h24v24H0V0z\" fill=\"none\"/>\n",
              "    <path d=\"M18.56 5.44l.94 2.06.94-2.06 2.06-.94-2.06-.94-.94-2.06-.94 2.06-2.06.94zm-11 1L8.5 8.5l.94-2.06 2.06-.94-2.06-.94L8.5 2.5l-.94 2.06-2.06.94zm10 10l.94 2.06.94-2.06 2.06-.94-2.06-.94-.94-2.06-.94 2.06-2.06.94z\"/><path d=\"M17.41 7.96l-1.37-1.37c-.4-.4-.92-.59-1.43-.59-.52 0-1.04.2-1.43.59L10.3 9.45l-7.72 7.72c-.78.78-.78 2.05 0 2.83L4 21.41c.39.39.9.59 1.41.59.51 0 1.02-.2 1.41-.59l7.78-7.78 2.81-2.81c.8-.78.8-2.07 0-2.86zM5.41 20L4 18.59l7.72-7.72 1.47 1.35L5.41 20z\"/>\n",
              "  </svg>\n",
              "      </button>\n",
              "      \n",
              "  <style>\n",
              "    .colab-df-container {\n",
              "      display:flex;\n",
              "      flex-wrap:wrap;\n",
              "      gap: 12px;\n",
              "    }\n",
              "\n",
              "    .colab-df-convert {\n",
              "      background-color: #E8F0FE;\n",
              "      border: none;\n",
              "      border-radius: 50%;\n",
              "      cursor: pointer;\n",
              "      display: none;\n",
              "      fill: #1967D2;\n",
              "      height: 32px;\n",
              "      padding: 0 0 0 0;\n",
              "      width: 32px;\n",
              "    }\n",
              "\n",
              "    .colab-df-convert:hover {\n",
              "      background-color: #E2EBFA;\n",
              "      box-shadow: 0px 1px 2px rgba(60, 64, 67, 0.3), 0px 1px 3px 1px rgba(60, 64, 67, 0.15);\n",
              "      fill: #174EA6;\n",
              "    }\n",
              "\n",
              "    [theme=dark] .colab-df-convert {\n",
              "      background-color: #3B4455;\n",
              "      fill: #D2E3FC;\n",
              "    }\n",
              "\n",
              "    [theme=dark] .colab-df-convert:hover {\n",
              "      background-color: #434B5C;\n",
              "      box-shadow: 0px 1px 3px 1px rgba(0, 0, 0, 0.15);\n",
              "      filter: drop-shadow(0px 1px 2px rgba(0, 0, 0, 0.3));\n",
              "      fill: #FFFFFF;\n",
              "    }\n",
              "  </style>\n",
              "\n",
              "      <script>\n",
              "        const buttonEl =\n",
              "          document.querySelector('#df-95e673c9-4d8c-4e37-91f5-4bd28a710070 button.colab-df-convert');\n",
              "        buttonEl.style.display =\n",
              "          google.colab.kernel.accessAllowed ? 'block' : 'none';\n",
              "\n",
              "        async function convertToInteractive(key) {\n",
              "          const element = document.querySelector('#df-95e673c9-4d8c-4e37-91f5-4bd28a710070');\n",
              "          const dataTable =\n",
              "            await google.colab.kernel.invokeFunction('convertToInteractive',\n",
              "                                                     [key], {});\n",
              "          if (!dataTable) return;\n",
              "\n",
              "          const docLinkHtml = 'Like what you see? Visit the ' +\n",
              "            '<a target=\"_blank\" href=https://colab.research.google.com/notebooks/data_table.ipynb>data table notebook</a>'\n",
              "            + ' to learn more about interactive tables.';\n",
              "          element.innerHTML = '';\n",
              "          dataTable['output_type'] = 'display_data';\n",
              "          await google.colab.output.renderOutput(dataTable, element);\n",
              "          const docLink = document.createElement('div');\n",
              "          docLink.innerHTML = docLinkHtml;\n",
              "          element.appendChild(docLink);\n",
              "        }\n",
              "      </script>\n",
              "    </div>\n",
              "  </div>\n",
              "  "
            ]
          },
          "metadata": {},
          "execution_count": 7
        }
      ]
    },
    {
      "cell_type": "code",
      "source": [
        "#returns an analysis of the quantitative values in the data set\n",
        "data.describe()"
      ],
      "metadata": {
        "id": "Q3m_Z4XzCMCw",
        "colab": {
          "base_uri": "https://localhost:8080/",
          "height": 300
        },
        "outputId": "11d26cf1-6227-48d7-be38-9ea40e49c6d2"
      },
      "id": "Q3m_Z4XzCMCw",
      "execution_count": null,
      "outputs": [
        {
          "output_type": "execute_result",
          "data": {
            "text/plain": [
              "             user_id  time_spent_on_the_page\n",
              "count     100.000000              100.000000\n",
              "mean   546517.000000                5.377800\n",
              "std        52.295779                2.378166\n",
              "min    546443.000000                0.190000\n",
              "25%    546467.750000                3.880000\n",
              "50%    546492.500000                5.415000\n",
              "75%    546567.250000                7.022500\n",
              "max    546592.000000               10.710000"
            ],
            "text/html": [
              "\n",
              "  <div id=\"df-41f81282-754e-46d4-8398-95d53546a6e3\">\n",
              "    <div class=\"colab-df-container\">\n",
              "      <div>\n",
              "<style scoped>\n",
              "    .dataframe tbody tr th:only-of-type {\n",
              "        vertical-align: middle;\n",
              "    }\n",
              "\n",
              "    .dataframe tbody tr th {\n",
              "        vertical-align: top;\n",
              "    }\n",
              "\n",
              "    .dataframe thead th {\n",
              "        text-align: right;\n",
              "    }\n",
              "</style>\n",
              "<table border=\"1\" class=\"dataframe\">\n",
              "  <thead>\n",
              "    <tr style=\"text-align: right;\">\n",
              "      <th></th>\n",
              "      <th>user_id</th>\n",
              "      <th>time_spent_on_the_page</th>\n",
              "    </tr>\n",
              "  </thead>\n",
              "  <tbody>\n",
              "    <tr>\n",
              "      <th>count</th>\n",
              "      <td>100.000000</td>\n",
              "      <td>100.000000</td>\n",
              "    </tr>\n",
              "    <tr>\n",
              "      <th>mean</th>\n",
              "      <td>546517.000000</td>\n",
              "      <td>5.377800</td>\n",
              "    </tr>\n",
              "    <tr>\n",
              "      <th>std</th>\n",
              "      <td>52.295779</td>\n",
              "      <td>2.378166</td>\n",
              "    </tr>\n",
              "    <tr>\n",
              "      <th>min</th>\n",
              "      <td>546443.000000</td>\n",
              "      <td>0.190000</td>\n",
              "    </tr>\n",
              "    <tr>\n",
              "      <th>25%</th>\n",
              "      <td>546467.750000</td>\n",
              "      <td>3.880000</td>\n",
              "    </tr>\n",
              "    <tr>\n",
              "      <th>50%</th>\n",
              "      <td>546492.500000</td>\n",
              "      <td>5.415000</td>\n",
              "    </tr>\n",
              "    <tr>\n",
              "      <th>75%</th>\n",
              "      <td>546567.250000</td>\n",
              "      <td>7.022500</td>\n",
              "    </tr>\n",
              "    <tr>\n",
              "      <th>max</th>\n",
              "      <td>546592.000000</td>\n",
              "      <td>10.710000</td>\n",
              "    </tr>\n",
              "  </tbody>\n",
              "</table>\n",
              "</div>\n",
              "      <button class=\"colab-df-convert\" onclick=\"convertToInteractive('df-41f81282-754e-46d4-8398-95d53546a6e3')\"\n",
              "              title=\"Convert this dataframe to an interactive table.\"\n",
              "              style=\"display:none;\">\n",
              "        \n",
              "  <svg xmlns=\"http://www.w3.org/2000/svg\" height=\"24px\"viewBox=\"0 0 24 24\"\n",
              "       width=\"24px\">\n",
              "    <path d=\"M0 0h24v24H0V0z\" fill=\"none\"/>\n",
              "    <path d=\"M18.56 5.44l.94 2.06.94-2.06 2.06-.94-2.06-.94-.94-2.06-.94 2.06-2.06.94zm-11 1L8.5 8.5l.94-2.06 2.06-.94-2.06-.94L8.5 2.5l-.94 2.06-2.06.94zm10 10l.94 2.06.94-2.06 2.06-.94-2.06-.94-.94-2.06-.94 2.06-2.06.94z\"/><path d=\"M17.41 7.96l-1.37-1.37c-.4-.4-.92-.59-1.43-.59-.52 0-1.04.2-1.43.59L10.3 9.45l-7.72 7.72c-.78.78-.78 2.05 0 2.83L4 21.41c.39.39.9.59 1.41.59.51 0 1.02-.2 1.41-.59l7.78-7.78 2.81-2.81c.8-.78.8-2.07 0-2.86zM5.41 20L4 18.59l7.72-7.72 1.47 1.35L5.41 20z\"/>\n",
              "  </svg>\n",
              "      </button>\n",
              "      \n",
              "  <style>\n",
              "    .colab-df-container {\n",
              "      display:flex;\n",
              "      flex-wrap:wrap;\n",
              "      gap: 12px;\n",
              "    }\n",
              "\n",
              "    .colab-df-convert {\n",
              "      background-color: #E8F0FE;\n",
              "      border: none;\n",
              "      border-radius: 50%;\n",
              "      cursor: pointer;\n",
              "      display: none;\n",
              "      fill: #1967D2;\n",
              "      height: 32px;\n",
              "      padding: 0 0 0 0;\n",
              "      width: 32px;\n",
              "    }\n",
              "\n",
              "    .colab-df-convert:hover {\n",
              "      background-color: #E2EBFA;\n",
              "      box-shadow: 0px 1px 2px rgba(60, 64, 67, 0.3), 0px 1px 3px 1px rgba(60, 64, 67, 0.15);\n",
              "      fill: #174EA6;\n",
              "    }\n",
              "\n",
              "    [theme=dark] .colab-df-convert {\n",
              "      background-color: #3B4455;\n",
              "      fill: #D2E3FC;\n",
              "    }\n",
              "\n",
              "    [theme=dark] .colab-df-convert:hover {\n",
              "      background-color: #434B5C;\n",
              "      box-shadow: 0px 1px 3px 1px rgba(0, 0, 0, 0.15);\n",
              "      filter: drop-shadow(0px 1px 2px rgba(0, 0, 0, 0.3));\n",
              "      fill: #FFFFFF;\n",
              "    }\n",
              "  </style>\n",
              "\n",
              "      <script>\n",
              "        const buttonEl =\n",
              "          document.querySelector('#df-41f81282-754e-46d4-8398-95d53546a6e3 button.colab-df-convert');\n",
              "        buttonEl.style.display =\n",
              "          google.colab.kernel.accessAllowed ? 'block' : 'none';\n",
              "\n",
              "        async function convertToInteractive(key) {\n",
              "          const element = document.querySelector('#df-41f81282-754e-46d4-8398-95d53546a6e3');\n",
              "          const dataTable =\n",
              "            await google.colab.kernel.invokeFunction('convertToInteractive',\n",
              "                                                     [key], {});\n",
              "          if (!dataTable) return;\n",
              "\n",
              "          const docLinkHtml = 'Like what you see? Visit the ' +\n",
              "            '<a target=\"_blank\" href=https://colab.research.google.com/notebooks/data_table.ipynb>data table notebook</a>'\n",
              "            + ' to learn more about interactive tables.';\n",
              "          element.innerHTML = '';\n",
              "          dataTable['output_type'] = 'display_data';\n",
              "          await google.colab.output.renderOutput(dataTable, element);\n",
              "          const docLink = document.createElement('div');\n",
              "          docLink.innerHTML = docLinkHtml;\n",
              "          element.appendChild(docLink);\n",
              "        }\n",
              "      </script>\n",
              "    </div>\n",
              "  </div>\n",
              "  "
            ]
          },
          "metadata": {},
          "execution_count": 8
        }
      ]
    },
    {
      "cell_type": "code",
      "source": [
        "#returns the sum of null values for each column in the data set\n",
        "data.isnull().sum()"
      ],
      "metadata": {
        "id": "c1Pb0t-6OfED",
        "colab": {
          "base_uri": "https://localhost:8080/"
        },
        "outputId": "8846aaf9-f6c6-4bfe-c4ea-307d998f248f"
      },
      "id": "c1Pb0t-6OfED",
      "execution_count": null,
      "outputs": [
        {
          "output_type": "execute_result",
          "data": {
            "text/plain": [
              "user_id                   0\n",
              "group                     0\n",
              "landing_page              0\n",
              "time_spent_on_the_page    0\n",
              "converted                 0\n",
              "language_preferred        0\n",
              "dtype: int64"
            ]
          },
          "metadata": {},
          "execution_count": 9
        }
      ]
    },
    {
      "cell_type": "markdown",
      "source": [
        "The data set has no missing values."
      ],
      "metadata": {
        "id": "HlZG7MomWv5E"
      },
      "id": "HlZG7MomWv5E"
    },
    {
      "cell_type": "code",
      "source": [
        "#returns the number, if any, of duplicated rows in the data set\n",
        "data.duplicated().sum()"
      ],
      "metadata": {
        "id": "teMacYvTQU51",
        "colab": {
          "base_uri": "https://localhost:8080/"
        },
        "outputId": "3cd77284-ff19-4655-d2ba-ece02bef6f79"
      },
      "id": "teMacYvTQU51",
      "execution_count": null,
      "outputs": [
        {
          "output_type": "execute_result",
          "data": {
            "text/plain": [
              "0"
            ]
          },
          "metadata": {},
          "execution_count": 10
        }
      ]
    },
    {
      "cell_type": "markdown",
      "source": [
        "The data set has no duplicated values."
      ],
      "metadata": {
        "id": "geL4lk-ZW0Li"
      },
      "id": "geL4lk-ZW0Li"
    },
    {
      "cell_type": "markdown",
      "metadata": {
        "id": "68f3b2c9"
      },
      "source": [
        "### Univariate Analysis"
      ],
      "id": "68f3b2c9"
    },
    {
      "cell_type": "code",
      "metadata": {
        "id": "1932d0f3",
        "colab": {
          "base_uri": "https://localhost:8080/",
          "height": 369
        },
        "outputId": "9f760a30-c01b-46b8-c036-8b3c67f19cff"
      },
      "source": [
        "#returns a plot of the distribution of time spent on landing page for the 100 samples in our data set\n",
        "sns.displot(data=data,x='time_spent_on_the_page', kde = True);"
      ],
      "id": "1932d0f3",
      "execution_count": null,
      "outputs": [
        {
          "output_type": "display_data",
          "data": {
            "text/plain": [
              "<Figure size 360x360 with 1 Axes>"
            ],
            "image/png": "[encoded data removed]"
          },
          "metadata": {
            "needs_background": "light"
          }
        }
      ]
    },
    {
      "cell_type": "markdown",
      "source": [
        "The distribution plot of time spent on the landing page resembles a normal distribution; however, further statistical analysis is required to determine how similar this distribution is to a normal distribution. "
      ],
      "metadata": {
        "id": "RaGGG_yzZZps"
      },
      "id": "RaGGG_yzZZps"
    },
    {
      "cell_type": "code",
      "source": [
        "#returns a countplot of the number of samples for each landing page (old or new)\n",
        "sns.countplot(data=data, x='landing_page');"
      ],
      "metadata": {
        "id": "zqWqe4ZeZBoH",
        "colab": {
          "base_uri": "https://localhost:8080/",
          "height": 280
        },
        "outputId": "4eabe002-6b9d-46e1-f00a-ccdd0ceb58b7"
      },
      "id": "zqWqe4ZeZBoH",
      "execution_count": null,
      "outputs": [
        {
          "output_type": "display_data",
          "data": {
            "text/plain": [
              "<Figure size 432x288 with 1 Axes>"
            ],
            "image/png": "[encoded data removed]"
          },
          "metadata": {
            "needs_background": "light"
          }
        }
      ]
    },
    {
      "cell_type": "markdown",
      "source": [
        "We can see that there is an equal count of 50 in each category."
      ],
      "metadata": {
        "id": "fBGyR8Exb0L9"
      },
      "id": "fBGyR8Exb0L9"
    },
    {
      "cell_type": "code",
      "source": [
        "#returns a countplot of the various preferred languages for each user in the sample \n",
        "sns.countplot(data=data, x='language_preferred');"
      ],
      "metadata": {
        "colab": {
          "base_uri": "https://localhost:8080/",
          "height": 280
        },
        "id": "5Ge_ydjQZRRP",
        "outputId": "77c6219c-d877-4cae-a675-e9130673ea8c"
      },
      "id": "5Ge_ydjQZRRP",
      "execution_count": null,
      "outputs": [
        {
          "output_type": "display_data",
          "data": {
            "text/plain": [
              "<Figure size 432x288 with 1 Axes>"
            ],
            "image/png": "[encoded data removed]"
          },
          "metadata": {
            "needs_background": "light"
          }
        }
      ]
    },
    {
      "cell_type": "markdown",
      "source": [
        "The count for all preferred languages is similar, where all 3 are within the range of 30-35."
      ],
      "metadata": {
        "id": "N8o4cQ8bb__1"
      },
      "id": "N8o4cQ8bb__1"
    },
    {
      "cell_type": "code",
      "source": [
        "#returns a countplot of the total number of users who subscribed to the e-news product (converted)\n",
        "sns.countplot(data=data, x='converted');"
      ],
      "metadata": {
        "colab": {
          "base_uri": "https://localhost:8080/",
          "height": 279
        },
        "id": "-0kdZI1OZcbp",
        "outputId": "9cc25378-979c-4449-fe17-2d140899af4f"
      },
      "id": "-0kdZI1OZcbp",
      "execution_count": null,
      "outputs": [
        {
          "output_type": "display_data",
          "data": {
            "text/plain": [
              "<Figure size 432x288 with 1 Axes>"
            ],
            "image/png": "[encoded data removed]"
          },
          "metadata": {
            "needs_background": "light"
          }
        }
      ]
    },
    {
      "cell_type": "markdown",
      "source": [
        "Just over half of the users in our sample made the decision to subscribe to the product."
      ],
      "metadata": {
        "id": "enU9R0m8ck7n"
      },
      "id": "enU9R0m8ck7n"
    },
    {
      "cell_type": "markdown",
      "metadata": {
        "id": "fad2de2f"
      },
      "source": [
        "### Bivariate Analysis"
      ],
      "id": "fad2de2f"
    },
    {
      "cell_type": "code",
      "source": [
        "#returns a box plot comparing the control and treatment group in regards to time spent on the landing page\n",
        "sns.boxplot(data=data, x='group', y = 'time_spent_on_the_page');"
      ],
      "metadata": {
        "colab": {
          "base_uri": "https://localhost:8080/",
          "height": 279
        },
        "id": "XcEXdaJ5-MyH",
        "outputId": "d7a508b4-3d1f-4fd5-c58d-cfc04f2ba0ac"
      },
      "id": "XcEXdaJ5-MyH",
      "execution_count": null,
      "outputs": [
        {
          "output_type": "display_data",
          "data": {
            "text/plain": [
              "<Figure size 432x288 with 1 Axes>"
            ],
            "image/png": "[encoded data removed]"
          },
          "metadata": {
            "needs_background": "light"
          }
        }
      ]
    },
    {
      "cell_type": "markdown",
      "source": [
        "We can see the median time spent on the landing page for the treatment group is higher than that of the control group. More statistical analysis is required to determine if this difference is statistically significant."
      ],
      "metadata": {
        "id": "ZVN-6zTYeEcm"
      },
      "id": "ZVN-6zTYeEcm"
    },
    {
      "cell_type": "code",
      "source": [
        "#returns a box plot comparing 'converted' and 'non-converted' users in regards to time spent on the landing page\n",
        "sns.boxplot(data=data, x='converted', y = 'time_spent_on_the_page');"
      ],
      "metadata": {
        "colab": {
          "base_uri": "https://localhost:8080/",
          "height": 279
        },
        "id": "EfD3MxLcAUuf",
        "outputId": "bbe9159a-8bec-471d-8cfd-b5663f2208c4"
      },
      "id": "EfD3MxLcAUuf",
      "execution_count": null,
      "outputs": [
        {
          "output_type": "display_data",
          "data": {
            "text/plain": [
              "<Figure size 432x288 with 1 Axes>"
            ],
            "image/png": "[encoded data removed]"
          },
          "metadata": {
            "needs_background": "light"
          }
        }
      ]
    },
    {
      "cell_type": "markdown",
      "source": [
        "We can see the median time spent on the landing page for converted group is greater than that of the 'non-converted' group. More statistical analysis is required to determine if this difference is statistically significant. Assuming this the difference in these groups is statistically significant, we might conclude that more time spent on the landing page causes a higher chance of conversion."
      ],
      "metadata": {
        "id": "dnPTWxSEey6I"
      },
      "id": "dnPTWxSEey6I"
    },
    {
      "cell_type": "code",
      "source": [
        "#returns a box plot comparing Spanish, English and French in regards to time spent on the landing page\n",
        "sns.boxplot(data=data, x='language_preferred', y = 'time_spent_on_the_page');"
      ],
      "metadata": {
        "colab": {
          "base_uri": "https://localhost:8080/",
          "height": 280
        },
        "id": "4-_Bizr_AYc6",
        "outputId": "3068eb7a-5132-466a-cf97-03d90b674580"
      },
      "id": "4-_Bizr_AYc6",
      "execution_count": null,
      "outputs": [
        {
          "output_type": "display_data",
          "data": {
            "text/plain": [
              "<Figure size 432x288 with 1 Axes>"
            ],
            "image/png": "[encoded data removed]"
          },
          "metadata": {
            "needs_background": "light"
          }
        }
      ]
    },
    {
      "cell_type": "markdown",
      "source": [
        "The boxplots are similar. Those who prefer Spanish appear to have less variability in time spent on the landing page than the other two; however, more testing is required to determine if this difference is statistically significant."
      ],
      "metadata": {
        "id": "CAxnlZl6g07t"
      },
      "id": "CAxnlZl6g07t"
    },
    {
      "cell_type": "markdown",
      "metadata": {
        "id": "27906576"
      },
      "source": [
        "## 1. Q1 Do the users spend more time on the new landing page than the existing landing page?"
      ],
      "id": "27906576"
    },
    {
      "cell_type": "markdown",
      "metadata": {
        "id": "e5fdf0c8"
      },
      "source": [
        "### Perform Visual Analysis"
      ],
      "id": "e5fdf0c8"
    },
    {
      "cell_type": "code",
      "metadata": {
        "id": "6eZJa41eg21n",
        "colab": {
          "base_uri": "https://localhost:8080/",
          "height": 280
        },
        "outputId": "42504615-b498-4614-de19-c1c5a7d0a10a"
      },
      "source": [
        "#returns a box plot comparing time time spent on the old landing page vs the new landing page\n",
        "sns.boxplot(data=data, x='landing_page', y = 'time_spent_on_the_page');"
      ],
      "id": "6eZJa41eg21n",
      "execution_count": null,
      "outputs": [
        {
          "output_type": "display_data",
          "data": {
            "text/plain": [
              "<Figure size 432x288 with 1 Axes>"
            ],
            "image/png": "[encoded data removed]"
          },
          "metadata": {
            "needs_background": "light"
          }
        }
      ]
    },
    {
      "cell_type": "markdown",
      "source": [
        "We can see the median time spent on the new landing page is higher than the time spent on the old landing page; we will perform more statistical testing in order to determine if the difference in means of these groups is statistically significant."
      ],
      "metadata": {
        "id": "_erwq8SbmUjl"
      },
      "id": "_erwq8SbmUjl"
    },
    {
      "cell_type": "markdown",
      "metadata": {
        "id": "56b3dafd"
      },
      "source": [
        "### Step 1: Define the null and alternate hypotheses"
      ],
      "id": "56b3dafd"
    },
    {
      "cell_type": "markdown",
      "metadata": {
        "id": "d2ac77ef"
      },
      "source": [
        "Let $\\mu_1, \\mu_2$ be the mean time spent on the landing page for the old and new landing pages, respectively.\n",
        "\n",
        ">$H_0:\\mu_1=\\mu_2$\n",
        "\n",
        ">$H_a:\\mu_1<\\mu_2$"
      ],
      "id": "d2ac77ef"
    },
    {
      "cell_type": "markdown",
      "metadata": {
        "id": "c7ee4907"
      },
      "source": [
        "### Step 2: Select Appropriate test"
      ],
      "id": "c7ee4907"
    },
    {
      "cell_type": "markdown",
      "metadata": {
        "id": "2c183cd7"
      },
      "source": [
        "Since we are comparing the sample means from 2 independent populations and our std devs are unknown, we will be using a 2-sample Independent T-test to analyze our data. Also, based on our alternative hypothesis, our test will be one-tailed."
      ],
      "id": "2c183cd7"
    },
    {
      "cell_type": "markdown",
      "metadata": {
        "id": "3f58c9a7"
      },
      "source": [
        "### Step 3: Decide the significance level"
      ],
      "id": "3f58c9a7"
    },
    {
      "cell_type": "markdown",
      "metadata": {
        "id": "92d7d7ee"
      },
      "source": [
        "We will set our significance level at α=0.05 as provided in our objective section above."
      ],
      "id": "92d7d7ee"
    },
    {
      "cell_type": "markdown",
      "metadata": {
        "id": "5fed2eac"
      },
      "source": [
        "### Step 4: Collect and prepare data"
      ],
      "id": "5fed2eac"
    },
    {
      "cell_type": "code",
      "metadata": {
        "id": "f5a59495"
      },
      "source": [
        "#creates seperate data sets separating the old and new landing page groups\n",
        "data_old = data[data['landing_page'] == 'old'].reset_index().copy()\n",
        "data_new = data[data['landing_page'] == 'new'].reset_index().copy()\n"
      ],
      "id": "f5a59495",
      "execution_count": null,
      "outputs": []
    },
    {
      "cell_type": "code",
      "source": [
        "#prints the means and std devs of the old and new landing page categories\n",
        "print(\"Mean of the old landing page in minutes:\" , data_old['time_spent_on_the_page'].mean())\n",
        "print(\"Mean of the new landing page in minutes:\" ,data_new['time_spent_on_the_page'].mean())\n",
        "print(\"Standard deviation of the old landing page:\" , data_old['time_spent_on_the_page'].std())\n",
        "print(\"Standard deviation of the new landing page:\" , data_new['time_spent_on_the_page'].std())"
      ],
      "metadata": {
        "colab": {
          "base_uri": "https://localhost:8080/"
        },
        "id": "eRPIbzaoSYiz",
        "outputId": "e80b1b02-d61f-4545-c42c-bfd1c92eb567"
      },
      "id": "eRPIbzaoSYiz",
      "execution_count": null,
      "outputs": [
        {
          "output_type": "stream",
          "name": "stdout",
          "text": [
            "Mean of the old landing page in minutes: 4.532400000000001\n",
            "Mean of the new landing page in minutes: 6.2232\n",
            "Standard deviation of the old landing page: 2.581974849306046\n",
            "Standard deviation of the new landing page: 1.8170310387878263\n"
          ]
        }
      ]
    },
    {
      "cell_type": "markdown",
      "source": [
        "Satisfied 2-sample Independent T-Test Assumptions\n",
        "\n",
        "* Continuous data - Yes, the time spent on the page is measured on a continuous scale.\n",
        "* Normally distributed populations - Yes, we are informed that the populations are assumed to be normal.\n",
        "* Independent populations - As we are taking random samples for two different groups, the two samples are from two independent populations.\n",
        "* Unequal population standard deviations - As the sample standard deviations are different, the population standard deviations may be assumed to be different.\n",
        "* Random sampling from the population - Yes, we are informed that the collected sample a simple random sample.\n"
      ],
      "metadata": {
        "id": "-uZOQnh6_Lfj"
      },
      "id": "-uZOQnh6_Lfj"
    },
    {
      "cell_type": "markdown",
      "metadata": {
        "id": "f5c5258d"
      },
      "source": [
        "### Step 5: Calculate the p-value"
      ],
      "id": "f5c5258d"
    },
    {
      "cell_type": "code",
      "metadata": {
        "id": "fac8594a",
        "colab": {
          "base_uri": "https://localhost:8080/"
        },
        "outputId": "7bcf8fc7-1b3b-4e39-9696-94a7d38f4309"
      },
      "source": [
        "#imports the required functions\n",
        "from scipy.stats import ttest_ind\n",
        "\n",
        "#finds the p-value\n",
        "test_stat, p_value = ttest_ind(data_new['time_spent_on_the_page'], data_old['time_spent_on_the_page'], equal_var = False, alternative = 'greater')\n",
        "print('The p-value is ', p_value)"
      ],
      "id": "fac8594a",
      "execution_count": null,
      "outputs": [
        {
          "output_type": "stream",
          "name": "stdout",
          "text": [
            "The p-value is  0.0001392381225166549\n"
          ]
        }
      ]
    },
    {
      "cell_type": "markdown",
      "metadata": {
        "id": "359b12f8"
      },
      "source": [
        "### Step 6: Compare the p-value with $\\alpha$"
      ],
      "id": "359b12f8"
    },
    {
      "cell_type": "markdown",
      "source": [
        "0.0001392 is less than our $\\alpha$ of .05 and therefore we reject our null hypothesis"
      ],
      "metadata": {
        "id": "We5zCZjWVEg9"
      },
      "id": "We5zCZjWVEg9"
    },
    {
      "cell_type": "markdown",
      "metadata": {
        "id": "d9affc84"
      },
      "source": [
        "### Step 7:  Draw inference"
      ],
      "id": "d9affc84"
    },
    {
      "cell_type": "markdown",
      "metadata": {
        "id": "6b16dd4b"
      },
      "source": [
        "Rejecting our null hypothesis allows us to conclude that there is enough statistical evidence to claim that the mean time spent on the new landing page is greater than the time spent on the old landing page."
      ],
      "id": "6b16dd4b"
    },
    {
      "cell_type": "markdown",
      "metadata": {
        "id": "353e9d24"
      },
      "source": [
        "## 2. Q2 Is the conversion rate (the proportion of users who visit the landing page and get converted) for the new page greater than the conversion rate for the old page?"
      ],
      "id": "353e9d24"
    },
    {
      "cell_type": "markdown",
      "metadata": {
        "id": "ngYpPvyNagRY"
      },
      "source": [
        "### Perform Visual Analysis"
      ],
      "id": "ngYpPvyNagRY"
    },
    {
      "cell_type": "code",
      "metadata": {
        "colab": {
          "base_uri": "https://localhost:8080/",
          "height": 280
        },
        "id": "mEUcieZgagRY",
        "outputId": "9df5d379-46c0-44e9-c8dc-f872ed582c47"
      },
      "source": [
        "#returns a count plot comparing conversions of the old and new landing pages\n",
        "sns.countplot(data=data, x='landing_page', hue='converted');"
      ],
      "execution_count": null,
      "outputs": [
        {
          "output_type": "display_data",
          "data": {
            "text/plain": [
              "<Figure size 432x288 with 1 Axes>"
            ],
            "image/png": "[encoded data removed]"
          },
          "metadata": {
            "needs_background": "light"
          }
        }
      ],
      "id": "mEUcieZgagRY"
    },
    {
      "cell_type": "markdown",
      "source": [
        "We can see that greater than half of the users of the old page are not converted. On the contrary, the number of those converted on the new landing page are nearly double the amount of those not converted on the new landing page. We will perform more statistical testing to determine if the difference in conversion rate for these two groups is statistically significant."
      ],
      "metadata": {
        "id": "ZYu-MeC9p0_o"
      },
      "id": "ZYu-MeC9p0_o"
    },
    {
      "cell_type": "markdown",
      "metadata": {
        "id": "4WzTpEJPagRZ"
      },
      "source": [
        "### Step 1: Define the null and alternate hypotheses"
      ],
      "id": "4WzTpEJPagRZ"
    },
    {
      "cell_type": "markdown",
      "metadata": {
        "id": "5MlEhegPagRZ"
      },
      "source": [
        "### Let's write the null and alternative hypothesis\n",
        "Let $p_1,p_2$ be the proportions of users who visited the landing page that were converted from the old and new landing page respectively\n",
        "\n",
        "\n",
        ">$H_0:p_1 =p_2$\n",
        "\n",
        ">$H_a:p_1 < p_2$"
      ],
      "id": "5MlEhegPagRZ"
    },
    {
      "cell_type": "markdown",
      "metadata": {
        "id": "R6GDm4IBagRZ"
      },
      "source": [
        "### Step 2: Select Appropriate test"
      ],
      "id": "R6GDm4IBagRZ"
    },
    {
      "cell_type": "markdown",
      "metadata": {
        "id": "iUSRMCMWagRZ"
      },
      "source": [
        "Since we are comparing the sample\n",
        "proportions from two populations, we will be using a 2-propotion Z-test. Also, based on our alternative hypothesis, our test will be one-tailed."
      ],
      "id": "iUSRMCMWagRZ"
    },
    {
      "cell_type": "markdown",
      "metadata": {
        "id": "xmfgwLp5agRZ"
      },
      "source": [
        "### Step 3: Decide the significance level"
      ],
      "id": "xmfgwLp5agRZ"
    },
    {
      "cell_type": "markdown",
      "metadata": {
        "id": "SSUXC92xagRa"
      },
      "source": [
        "We will set our significance level at α=0.05 as provided in our objective section above."
      ],
      "id": "SSUXC92xagRa"
    },
    {
      "cell_type": "markdown",
      "metadata": {
        "id": "P9X6Y7_KagRa"
      },
      "source": [
        "### Step 4: Collect and prepare data"
      ],
      "id": "P9X6Y7_KagRa"
    },
    {
      "cell_type": "code",
      "source": [
        "#prints the number of converted individuals on the old and new landing pages\n",
        "print((data_old['converted'] == 'yes').value_counts())\n",
        "print((data_new['converted'] == 'yes').value_counts())\n",
        "\n",
        "#prints the total number of rows for the old and new groups\n",
        "print(data_old.shape[0])\n",
        "print(data_new.shape[0])\n"
      ],
      "metadata": {
        "colab": {
          "base_uri": "https://localhost:8080/"
        },
        "id": "1BKpvReaCRFO",
        "outputId": "2d5bab32-0c28-4383-e10f-6122a67ff75d"
      },
      "id": "1BKpvReaCRFO",
      "execution_count": null,
      "outputs": [
        {
          "output_type": "stream",
          "name": "stdout",
          "text": [
            "False    29\n",
            "True     21\n",
            "Name: converted, dtype: int64\n",
            "True     33\n",
            "False    17\n",
            "Name: converted, dtype: int64\n",
            "50\n",
            "50\n"
          ]
        }
      ]
    },
    {
      "cell_type": "code",
      "metadata": {
        "colab": {
          "base_uri": "https://localhost:8080/"
        },
        "id": "5vwXKXaUagRa",
        "outputId": "fa3aaf3e-2637-448e-818f-d1b73c9f3790"
      },
      "source": [
        "#prints calculations of the proportion converted for the old and new landing pages\n",
        "print('Proportion converted of the old landing page:', (data_old['converted'] == 'yes').sum()/data_old.shape[0])\n",
        "print('Proportion converted of the new landing page:',(data_new['converted'] == 'yes').sum()/data_new.shape[0])"
      ],
      "execution_count": null,
      "outputs": [
        {
          "output_type": "stream",
          "name": "stdout",
          "text": [
            "Proportion converted of the old landing page: 0.42\n",
            "Proportion converted of the new landing page: 0.66\n"
          ]
        }
      ],
      "id": "5vwXKXaUagRa"
    },
    {
      "cell_type": "markdown",
      "source": [
        "Satisfied Two Proportion Z-test Assumptions:\n",
        "\n",
        "*   Binomally distributed population - Yes, a user is either converted or not converted.\n",
        "*   Random sampling from the population - Yes, we are informed that the collected sample is a simple random sample.  \n",
        "*   Can the binomial distribution approximated to normal distribution - Yes, np and n(1-p) are greater than or equal to 10 (n and p refer to the sample size and sample proportion respectively).\n",
        ">$np_1 = 50\\cdot 0.42 =21 \\geq 10\\\\\n",
        "n(1-p_1) = 50 \\cdot 0.58 =29 \\geq 10 \\\\\n",
        "np_2 = 50 \\cdot 0.66 =33 \\geq 10\\\\\n",
        "n(1-p_2) = 50 \\cdot 0.34 =17 \\geq 10 $"
      ],
      "metadata": {
        "id": "y19Wa8HV_ijZ"
      },
      "id": "y19Wa8HV_ijZ"
    },
    {
      "cell_type": "markdown",
      "metadata": {
        "id": "vFJhqANQagRa"
      },
      "source": [
        "### Step 5: Calculate the p-value"
      ],
      "id": "vFJhqANQagRa"
    },
    {
      "cell_type": "code",
      "metadata": {
        "colab": {
          "base_uri": "https://localhost:8080/"
        },
        "id": "41al3rqwagRa",
        "outputId": "eefb58e6-672a-4b73-9afc-448edc7b39f1"
      },
      "source": [
        "#imports the required function\n",
        "from statsmodels.stats.proportion import proportions_ztest\n",
        "\n",
        "#sets the counts of number of converted users\n",
        "converted_count = np.array([33, 21])\n",
        "\n",
        "#sets the sample sizes\n",
        "nobs = np.array([50, 50])\n",
        "\n",
        "#finds the p-value\n",
        "test_stat, p_value = proportions_ztest(converted_count, nobs, alternative = 'larger')\n",
        "print('The p-value is ' + str(p_value))"
      ],
      "execution_count": null,
      "outputs": [
        {
          "output_type": "stream",
          "name": "stdout",
          "text": [
            "The p-value is 0.008026308204056278\n"
          ]
        },
        {
          "output_type": "stream",
          "name": "stderr",
          "text": [
            "/usr/local/lib/python3.7/dist-packages/statsmodels/tools/_testing.py:19: FutureWarning: pandas.util.testing is deprecated. Use the functions in the public API at pandas.testing instead.\n",
            "  import pandas.util.testing as tm\n"
          ]
        }
      ],
      "id": "41al3rqwagRa"
    },
    {
      "cell_type": "markdown",
      "metadata": {
        "id": "VZdfRfrWagRb"
      },
      "source": [
        "### Step 6: Compare the p-value with $\\alpha$"
      ],
      "id": "VZdfRfrWagRb"
    },
    {
      "cell_type": "markdown",
      "source": [
        "0.008026 is less than our $\\alpha$ of .05 and therefore we reject our null hypothesis"
      ],
      "metadata": {
        "id": "iOh1-ElBGkzJ"
      },
      "id": "iOh1-ElBGkzJ"
    },
    {
      "cell_type": "markdown",
      "metadata": {
        "id": "rFqvMiy1agRb"
      },
      "source": [
        "### Step 7:  Draw inference"
      ],
      "id": "rFqvMiy1agRb"
    },
    {
      "cell_type": "markdown",
      "metadata": {
        "id": "z1ZOJCdZagRb"
      },
      "source": [
        "Rejecting our null hypothesis allows us to conclude that there is enough statistical evidence to claim that the proportion of users converted on the new landing page is higher than the proportion of users converted on the old landing page."
      ],
      "id": "z1ZOJCdZagRb"
    },
    {
      "cell_type": "markdown",
      "metadata": {
        "id": "d49bfa2d"
      },
      "source": [
        "## 3. Q3 Are the 'converted' and 'language_preferred' variables independent or related?"
      ],
      "id": "d49bfa2d"
    },
    {
      "cell_type": "markdown",
      "metadata": {
        "id": "MhjNrU254o4J"
      },
      "source": [
        "### Perform Visual Analysis"
      ],
      "id": "MhjNrU254o4J"
    },
    {
      "cell_type": "code",
      "source": [
        "#returns a plot comparing conversions for the various language preferences of the users\n",
        "pd.crosstab(data['converted'], data['language_preferred'], normalize = 'index').plot(kind='bar', figsize = (6,8), stacked = True)\n",
        "plt.legend()\n",
        "plt.show()"
      ],
      "metadata": {
        "colab": {
          "base_uri": "https://localhost:8080/",
          "height": 504
        },
        "outputId": "bb7c4213-0e9f-4e71-9270-e9f3e39970fe",
        "id": "vC6-1vYy8p4D"
      },
      "execution_count": null,
      "outputs": [
        {
          "output_type": "display_data",
          "data": {
            "text/plain": [
              "<Figure size 432x576 with 1 Axes>"
            ],
            "image/png": "[encoded data removed]"
          },
          "metadata": {
            "needs_background": "light"
          }
        }
      ],
      "id": "vC6-1vYy8p4D"
    },
    {
      "cell_type": "markdown",
      "source": [
        "We can see a difference in the distribution of conversions for each language preference of our users; however, we will perform more statistical testing to determine if the 'converted' and 'language_preferred' variables are independent or related."
      ],
      "metadata": {
        "id": "EyzZzidCsfGM"
      },
      "id": "EyzZzidCsfGM"
    },
    {
      "cell_type": "markdown",
      "metadata": {
        "id": "8W4tVsY34o4J"
      },
      "source": [
        "### Step 1: Define the null and alternate hypotheses"
      ],
      "id": "8W4tVsY34o4J"
    },
    {
      "cell_type": "markdown",
      "metadata": {
        "id": "LxQw9T1y4o4K"
      },
      "source": [
        ">$H_0:$ Conversion status is independent of language preference.\n",
        "\n",
        ">$H_a:$ Conversion status depends on language preference."
      ],
      "id": "LxQw9T1y4o4K"
    },
    {
      "cell_type": "markdown",
      "metadata": {
        "id": "_HnF_rvu4o4K"
      },
      "source": [
        "### Step 2: Select Appropriate test"
      ],
      "id": "_HnF_rvu4o4K"
    },
    {
      "cell_type": "markdown",
      "metadata": {
        "id": "fKPIN3xp4o4K"
      },
      "source": [
        "Since we are checking whether two categorical\n",
        "variables from a population are\n",
        "independent, we will be using a Chi-Square Test of Independence"
      ],
      "id": "fKPIN3xp4o4K"
    },
    {
      "cell_type": "markdown",
      "metadata": {
        "id": "GaLRvxZU4o4K"
      },
      "source": [
        "### Step 3: Decide the significance level"
      ],
      "id": "GaLRvxZU4o4K"
    },
    {
      "cell_type": "markdown",
      "metadata": {
        "id": "HjAh-qgv4o4K"
      },
      "source": [
        "We will set our significance level at α=0.05 as provided in our objective section above."
      ],
      "id": "HjAh-qgv4o4K"
    },
    {
      "cell_type": "markdown",
      "metadata": {
        "id": "EwftJV3J4o4K"
      },
      "source": [
        "### Step 4: Collect and prepare data"
      ],
      "id": "EwftJV3J4o4K"
    },
    {
      "cell_type": "code",
      "metadata": {
        "colab": {
          "base_uri": "https://localhost:8080/",
          "height": 175
        },
        "id": "mMahsIAI4o4L",
        "outputId": "ce1eec97-1f70-4192-d650-f2cec9b60d89"
      },
      "source": [
        "#returns a cross-tabulation table of the conversion and language preference data\n",
        "language_conversion_table = pd.crosstab(index=data['language_preferred'], columns=data['converted'])\n",
        "language_conversion_table"
      ],
      "execution_count": null,
      "outputs": [
        {
          "output_type": "execute_result",
          "data": {
            "text/plain": [
              "converted           no  yes\n",
              "language_preferred         \n",
              "English             11   21\n",
              "French              19   15\n",
              "Spanish             16   18"
            ],
            "text/html": [
              "\n",
              "  <div id=\"df-2db146ad-4b74-4d6a-b999-274730212f4f\">\n",
              "    <div class=\"colab-df-container\">\n",
              "      <div>\n",
              "<style scoped>\n",
              "    .dataframe tbody tr th:only-of-type {\n",
              "        vertical-align: middle;\n",
              "    }\n",
              "\n",
              "    .dataframe tbody tr th {\n",
              "        vertical-align: top;\n",
              "    }\n",
              "\n",
              "    .dataframe thead th {\n",
              "        text-align: right;\n",
              "    }\n",
              "</style>\n",
              "<table border=\"1\" class=\"dataframe\">\n",
              "  <thead>\n",
              "    <tr style=\"text-align: right;\">\n",
              "      <th>converted</th>\n",
              "      <th>no</th>\n",
              "      <th>yes</th>\n",
              "    </tr>\n",
              "    <tr>\n",
              "      <th>language_preferred</th>\n",
              "      <th></th>\n",
              "      <th></th>\n",
              "    </tr>\n",
              "  </thead>\n",
              "  <tbody>\n",
              "    <tr>\n",
              "      <th>English</th>\n",
              "      <td>11</td>\n",
              "      <td>21</td>\n",
              "    </tr>\n",
              "    <tr>\n",
              "      <th>French</th>\n",
              "      <td>19</td>\n",
              "      <td>15</td>\n",
              "    </tr>\n",
              "    <tr>\n",
              "      <th>Spanish</th>\n",
              "      <td>16</td>\n",
              "      <td>18</td>\n",
              "    </tr>\n",
              "  </tbody>\n",
              "</table>\n",
              "</div>\n",
              "      <button class=\"colab-df-convert\" onclick=\"convertToInteractive('df-2db146ad-4b74-4d6a-b999-274730212f4f')\"\n",
              "              title=\"Convert this dataframe to an interactive table.\"\n",
              "              style=\"display:none;\">\n",
              "        \n",
              "  <svg xmlns=\"http://www.w3.org/2000/svg\" height=\"24px\"viewBox=\"0 0 24 24\"\n",
              "       width=\"24px\">\n",
              "    <path d=\"M0 0h24v24H0V0z\" fill=\"none\"/>\n",
              "    <path d=\"M18.56 5.44l.94 2.06.94-2.06 2.06-.94-2.06-.94-.94-2.06-.94 2.06-2.06.94zm-11 1L8.5 8.5l.94-2.06 2.06-.94-2.06-.94L8.5 2.5l-.94 2.06-2.06.94zm10 10l.94 2.06.94-2.06 2.06-.94-2.06-.94-.94-2.06-.94 2.06-2.06.94z\"/><path d=\"M17.41 7.96l-1.37-1.37c-.4-.4-.92-.59-1.43-.59-.52 0-1.04.2-1.43.59L10.3 9.45l-7.72 7.72c-.78.78-.78 2.05 0 2.83L4 21.41c.39.39.9.59 1.41.59.51 0 1.02-.2 1.41-.59l7.78-7.78 2.81-2.81c.8-.78.8-2.07 0-2.86zM5.41 20L4 18.59l7.72-7.72 1.47 1.35L5.41 20z\"/>\n",
              "  </svg>\n",
              "      </button>\n",
              "      \n",
              "  <style>\n",
              "    .colab-df-container {\n",
              "      display:flex;\n",
              "      flex-wrap:wrap;\n",
              "      gap: 12px;\n",
              "    }\n",
              "\n",
              "    .colab-df-convert {\n",
              "      background-color: #E8F0FE;\n",
              "      border: none;\n",
              "      border-radius: 50%;\n",
              "      cursor: pointer;\n",
              "      display: none;\n",
              "      fill: #1967D2;\n",
              "      height: 32px;\n",
              "      padding: 0 0 0 0;\n",
              "      width: 32px;\n",
              "    }\n",
              "\n",
              "    .colab-df-convert:hover {\n",
              "      background-color: #E2EBFA;\n",
              "      box-shadow: 0px 1px 2px rgba(60, 64, 67, 0.3), 0px 1px 3px 1px rgba(60, 64, 67, 0.15);\n",
              "      fill: #174EA6;\n",
              "    }\n",
              "\n",
              "    [theme=dark] .colab-df-convert {\n",
              "      background-color: #3B4455;\n",
              "      fill: #D2E3FC;\n",
              "    }\n",
              "\n",
              "    [theme=dark] .colab-df-convert:hover {\n",
              "      background-color: #434B5C;\n",
              "      box-shadow: 0px 1px 3px 1px rgba(0, 0, 0, 0.15);\n",
              "      filter: drop-shadow(0px 1px 2px rgba(0, 0, 0, 0.3));\n",
              "      fill: #FFFFFF;\n",
              "    }\n",
              "  </style>\n",
              "\n",
              "      <script>\n",
              "        const buttonEl =\n",
              "          document.querySelector('#df-2db146ad-4b74-4d6a-b999-274730212f4f button.colab-df-convert');\n",
              "        buttonEl.style.display =\n",
              "          google.colab.kernel.accessAllowed ? 'block' : 'none';\n",
              "\n",
              "        async function convertToInteractive(key) {\n",
              "          const element = document.querySelector('#df-2db146ad-4b74-4d6a-b999-274730212f4f');\n",
              "          const dataTable =\n",
              "            await google.colab.kernel.invokeFunction('convertToInteractive',\n",
              "                                                     [key], {});\n",
              "          if (!dataTable) return;\n",
              "\n",
              "          const docLinkHtml = 'Like what you see? Visit the ' +\n",
              "            '<a target=\"_blank\" href=https://colab.research.google.com/notebooks/data_table.ipynb>data table notebook</a>'\n",
              "            + ' to learn more about interactive tables.';\n",
              "          element.innerHTML = '';\n",
              "          dataTable['output_type'] = 'display_data';\n",
              "          await google.colab.output.renderOutput(dataTable, element);\n",
              "          const docLink = document.createElement('div');\n",
              "          docLink.innerHTML = docLinkHtml;\n",
              "          element.appendChild(docLink);\n",
              "        }\n",
              "      </script>\n",
              "    </div>\n",
              "  </div>\n",
              "  "
            ]
          },
          "metadata": {},
          "execution_count": 27
        }
      ],
      "id": "mMahsIAI4o4L"
    },
    {
      "cell_type": "markdown",
      "source": [
        "### Satisfied Chi-Square Test of Independence Assumptions:\n",
        "\n",
        "* Categorical variables - Yes\n",
        "* Expected value of the number of sample observations in each level of the variable is at least 5 - Yes, the number of observations in each level is greater than 5.\n",
        "* Random sampling from the population - Yes, we are informed that the collected sample is a simple random sample.\n"
      ],
      "metadata": {
        "id": "I6BYgWt0LYOb"
      },
      "id": "I6BYgWt0LYOb"
    },
    {
      "cell_type": "markdown",
      "metadata": {
        "id": "PtEs26ff4o4L"
      },
      "source": [
        "### Step 5: Calculate the p-value"
      ],
      "id": "PtEs26ff4o4L"
    },
    {
      "cell_type": "code",
      "metadata": {
        "colab": {
          "base_uri": "https://localhost:8080/"
        },
        "id": "Ny6bGHn44o4L",
        "outputId": "8a2e2f0b-1873-47e8-8536-cf6ca8489350"
      },
      "source": [
        "#imports the required function\n",
        "from scipy.stats import chi2_contingency\n",
        "\n",
        "#finds the p-value\n",
        "chi, p_value, dof, expected = chi2_contingency(language_conversion_table)\n",
        "print('The p-value is', p_value)"
      ],
      "execution_count": null,
      "outputs": [
        {
          "output_type": "stream",
          "name": "stdout",
          "text": [
            "The p-value is 0.2129888748754345\n"
          ]
        }
      ],
      "id": "Ny6bGHn44o4L"
    },
    {
      "cell_type": "markdown",
      "metadata": {
        "id": "zJbfQEok4o4L"
      },
      "source": [
        "### Step 6: Compare the p-value with $\\alpha$"
      ],
      "id": "zJbfQEok4o4L"
    },
    {
      "cell_type": "markdown",
      "source": [
        "0.21299 is greater than our $\\alpha$ of .05 and therefore we fail to reject our null hypothesis"
      ],
      "metadata": {
        "id": "kCat6x3vPpR4"
      },
      "id": "kCat6x3vPpR4"
    },
    {
      "cell_type": "markdown",
      "metadata": {
        "id": "yIbIF5NJ4o4L"
      },
      "source": [
        "### Step 7:  Draw inference"
      ],
      "id": "yIbIF5NJ4o4L"
    },
    {
      "cell_type": "markdown",
      "metadata": {
        "id": "u4nFOBDt4o4L"
      },
      "source": [
        "Failing to reject our null hypothesis means that we do not have enough statistical evidence to conclude that the conversion status depends on language preference. Thus we assume that conversion status is independent of language preference."
      ],
      "id": "u4nFOBDt4o4L"
    },
    {
      "cell_type": "markdown",
      "metadata": {
        "id": "8d585a90"
      },
      "source": [
        "## 4. Q4 Is the time spent on the new page same for the different language users?"
      ],
      "id": "8d585a90"
    },
    {
      "cell_type": "markdown",
      "metadata": {
        "id": "yU9h_p2n4s1A"
      },
      "source": [
        "### Perform Visual Analysis"
      ],
      "id": "yU9h_p2n4s1A"
    },
    {
      "cell_type": "code",
      "metadata": {
        "colab": {
          "base_uri": "https://localhost:8080/",
          "height": 606
        },
        "id": "RuPUazy14s1B",
        "outputId": "46e72d5b-76ec-44d0-9c95-2cff6c72441b"
      },
      "source": [
        "#returns a box plot comparing time spent on the new landing page for the different language users\n",
        "plt.figure(figsize=(12,10))\n",
        "sns.boxplot(data=data_new, x='language_preferred', y='time_spent_on_the_page');"
      ],
      "execution_count": null,
      "outputs": [
        {
          "output_type": "display_data",
          "data": {
            "text/plain": [
              "<Figure size 864x720 with 1 Axes>"
            ],
            "image/png": "[encoded data removed]"
          },
          "metadata": {
            "needs_background": "light"
          }
        }
      ],
      "id": "RuPUazy14s1B"
    },
    {
      "cell_type": "markdown",
      "source": [
        "We can see that the median time spent on the new landing page is greatest for English preference, followed by Spanish preference, followed by French preference. More statistical testing will be performed to determine if the differences in means for these three groups are statistically significant."
      ],
      "metadata": {
        "id": "NA3c9FwPwkYt"
      },
      "id": "NA3c9FwPwkYt"
    },
    {
      "cell_type": "markdown",
      "metadata": {
        "id": "jmPPVhT14s1B"
      },
      "source": [
        "### Step 1: Define the null and alternate hypotheses"
      ],
      "id": "jmPPVhT14s1B"
    },
    {
      "cell_type": "markdown",
      "metadata": {
        "id": "T3i2XJMR4s1B"
      },
      "source": [
        "Let $\\mu_1, \\mu_2, \\mu_3$ be the mean times spent on the new landing page for languages English, Spanish and French respectively.\n",
        "\n",
        "\n",
        ">$H_0: \\mu_1 = \\mu_2 = \\mu_3$\n",
        "\n",
        "\n",
        ">$H_a: $ At least one mean time spent on the new landing page is different from the rest."
      ],
      "id": "T3i2XJMR4s1B"
    },
    {
      "cell_type": "markdown",
      "metadata": {
        "id": "fTRGpvn_4s1C"
      },
      "source": [
        "### Step 2: Select Appropriate test"
      ],
      "id": "fTRGpvn_4s1C"
    },
    {
      "cell_type": "markdown",
      "metadata": {
        "id": "2MWhKo574s1C"
      },
      "source": [
        "Since we are comparing the sample means from 2 or more\n",
        "independent populations, we will be using a One-way ANOVA test."
      ],
      "id": "2MWhKo574s1C"
    },
    {
      "cell_type": "markdown",
      "metadata": {
        "id": "o3LkWV5S4s1C"
      },
      "source": [
        "### Step 3: Decide the significance level"
      ],
      "id": "o3LkWV5S4s1C"
    },
    {
      "cell_type": "markdown",
      "metadata": {
        "id": "CmX-3Tdb4s1C"
      },
      "source": [
        "We will set our significance level at α=0.05 as provided in our objective section above."
      ],
      "id": "CmX-3Tdb4s1C"
    },
    {
      "cell_type": "markdown",
      "metadata": {
        "id": "KfXojJVB4s1D"
      },
      "source": [
        "### Step 4: Collect and prepare data"
      ],
      "id": "KfXojJVB4s1D"
    },
    {
      "cell_type": "markdown",
      "source": [
        "### Shapiro-Wilk’s test\n",
        "\n",
        ">$H_0:$ Time spent on the page follows a normal distribution\n",
        "\n",
        "\n",
        ">$H_a:$ Time spent on the page does not follow a normal distribution"
      ],
      "metadata": {
        "id": "AdzODzKHeln5"
      },
      "id": "AdzODzKHeln5"
    },
    {
      "cell_type": "code",
      "source": [
        "# Assumption 1: Normality\n",
        "from scipy import stats\n",
        "\n",
        "# find the p-value\n",
        "w, p_value = stats.shapiro(data['time_spent_on_the_page']) \n",
        "print('The p-value is', p_value)"
      ],
      "metadata": {
        "colab": {
          "base_uri": "https://localhost:8080/"
        },
        "id": "sHKJVFQIpITB",
        "outputId": "745745f8-8ac9-4aa6-8216-b49c61fe5bc7"
      },
      "id": "sHKJVFQIpITB",
      "execution_count": null,
      "outputs": [
        {
          "output_type": "stream",
          "name": "stdout",
          "text": [
            "The p-value is 0.5643684267997742\n"
          ]
        }
      ]
    },
    {
      "cell_type": "markdown",
      "source": [
        "Since our p-value of 0.564 is greater than our significance level of 0.05, we fail to reject our null hypothesis and therefore assume normal distribution."
      ],
      "metadata": {
        "id": "mI57rtWCpy4F"
      },
      "id": "mI57rtWCpy4F"
    },
    {
      "cell_type": "markdown",
      "source": [
        "### Levene’s test\n",
        "\n",
        "\n",
        ">$H_0$: All the population variances are equal\n",
        "\n",
        "\n",
        ">$H_a$: At least one variance is different from the rest"
      ],
      "metadata": {
        "id": "LPmksORle1ox"
      },
      "id": "LPmksORle1ox"
    },
    {
      "cell_type": "code",
      "source": [
        "#Assumption 2: Homogeneity of Variance\n",
        "from scipy.stats import levene\n",
        "statistic, p_value = levene(data['time_spent_on_the_page'][data['language_preferred']==\"English\"], \n",
        "                                   data['time_spent_on_the_page'][data['language_preferred']==\"Spanish\"], \n",
        "                                   data['time_spent_on_the_page'][data['language_preferred']==\"French\"])\n",
        "# find the p-value\n",
        "print('The p-value is', p_value)"
      ],
      "metadata": {
        "colab": {
          "base_uri": "https://localhost:8080/"
        },
        "id": "xzdt5EU9qNTs",
        "outputId": "6c1421be-6243-4a15-fd74-c0abf4a9d255"
      },
      "id": "xzdt5EU9qNTs",
      "execution_count": null,
      "outputs": [
        {
          "output_type": "stream",
          "name": "stdout",
          "text": [
            "The p-value is 0.06515086840327314\n"
          ]
        }
      ]
    },
    {
      "cell_type": "markdown",
      "source": [
        "Since our p-value of 0.0652 is greater than our significance level of 0.05, we fail to reject our null hypothesis and therefore assume equal variances of our populations."
      ],
      "metadata": {
        "id": "bMgwXpPfrJV-"
      },
      "id": "bMgwXpPfrJV-"
    },
    {
      "cell_type": "markdown",
      "source": [
        "### Verified One-way ANOVA assumptions:\n",
        "\n",
        "* The populations are normally distributed - Yes, the normality assumption is verified using the Shapiro-Wilk’s test.\n",
        "* Population variances are equal - Yes, the homogeneity of variance assumption is verified using the Levene's test.\n",
        "* Samples are independent simple random samples - Yes, we are informed that the collected sample is a simple random sample."
      ],
      "metadata": {
        "id": "gKGcUgVIeWR_"
      },
      "id": "gKGcUgVIeWR_"
    },
    {
      "cell_type": "code",
      "metadata": {
        "id": "g0PmwvuG4s1D"
      },
      "source": [
        "#creates 3 different data frames with each consisting of time spent on the new landing page for the different language preferences\n",
        "data_new_english = data_new[data_new['language_preferred'] == 'English']['time_spent_on_the_page']\n",
        "data_new_spanish = data_new[data_new['language_preferred'] == 'Spanish']['time_spent_on_the_page']\n",
        "data_new_french = data_new[data_new['language_preferred'] == 'French']['time_spent_on_the_page']"
      ],
      "execution_count": null,
      "outputs": [],
      "id": "g0PmwvuG4s1D"
    },
    {
      "cell_type": "markdown",
      "metadata": {
        "id": "6oC6ue-r4s1D"
      },
      "source": [
        "### Step 5: Calculate the p-value"
      ],
      "id": "6oC6ue-r4s1D"
    },
    {
      "cell_type": "code",
      "metadata": {
        "colab": {
          "base_uri": "https://localhost:8080/"
        },
        "id": "UoK2tEYc4s1D",
        "outputId": "c38afc96-1802-48ad-92a8-56540fcc2e29"
      },
      "source": [
        "#import the required function\n",
        "from scipy.stats import f_oneway\n",
        "\n",
        "# perform one-way anova test\n",
        "test_stat, p_value = f_oneway(data_new_english, data_new_spanish, data_new_french)\n",
        "print('The p-value is ' + str(p_value))"
      ],
      "execution_count": null,
      "outputs": [
        {
          "output_type": "stream",
          "name": "stdout",
          "text": [
            "The p-value is 0.43204138694325955\n"
          ]
        }
      ],
      "id": "UoK2tEYc4s1D"
    },
    {
      "cell_type": "markdown",
      "metadata": {
        "id": "VGkqW9u54s1D"
      },
      "source": [
        "### Step 6: Compare the p-value with $\\alpha$"
      ],
      "id": "VGkqW9u54s1D"
    },
    {
      "cell_type": "markdown",
      "source": [
        "0.4320 is greater than our $\\alpha$ of .05 and therefore we fail to reject our null hypothesis"
      ],
      "metadata": {
        "id": "gsO-4DutrtAK"
      },
      "id": "gsO-4DutrtAK"
    },
    {
      "cell_type": "markdown",
      "metadata": {
        "id": "cmOJ0Yl74s1E"
      },
      "source": [
        "### Step 7:  Draw inference"
      ],
      "id": "cmOJ0Yl74s1E"
    },
    {
      "cell_type": "markdown",
      "metadata": {
        "id": "1mTVSFVa4s1E"
      },
      "source": [
        "Failing to reject our null hypothesis means that we do not have enough statistical evidence to conclude that at least one mean time spent on the new landing page for language preference is different than the rest. Thus we assume that the mean time spent on the new landing page is the same for all language preferences."
      ],
      "id": "1mTVSFVa4s1E"
    },
    {
      "cell_type": "markdown",
      "metadata": {
        "id": "3acbc947"
      },
      "source": [
        "## Conclusion and Business Recommendations"
      ],
      "id": "3acbc947"
    },
    {
      "cell_type": "markdown",
      "metadata": {
        "id": "21fb1063"
      },
      "source": [
        "### Conclusions:\n",
        "* According to our data, mean time spent on the new landing page is greater than that of the older landing page.\n",
        "* According to our data, the proportion of users converted on the new landing page is greater than that of the old landing page.\n",
        "* According to our data, language preference and conversion appear to be independent variables\n",
        "* According to our data, average time spent on the new landing page is approximately the same for the different language preference users."
      ],
      "id": "21fb1063"
    },
    {
      "cell_type": "markdown",
      "source": [
        "### Recommendations:\n"
      ],
      "metadata": {
        "id": "Na_6uTdx77wg"
      },
      "id": "Na_6uTdx77wg"
    },
    {
      "cell_type": "markdown",
      "source": [
        "* E-news Express should look into additional methods to further increase time spent on the landing page for users as this will likely generate a greater number of subscribers\n",
        "* E-news Express should certainly implement the new landing page as we can be confident that this would increase the number of subscribers\n",
        "* E-news Express should at this stage not make any business decisions in regards to the preferred languages of it's users because language preference appears to have no significant impact on conversion rate.\n",
        "* E-news Express should consider performing more detailed A/B testing with the new landing page in order to determine which specific features of the new landing page were most effective in increasing conversion (determine specifically what it was about the new landing page that made it so appealing). This information will help E-news Express know which aspects of the website to spend the most amount of time on going forward to further increase revenue.\n",
        "* Lastly, E-news Express should consider continued sampling of users and their language preferences going forward. As the company grows, there may develop a significant difference between users of different language preferences in regards to other variables. This information can then be used to increase the conversion and retention rates of subscriptions for different users."
      ],
      "metadata": {
        "id": "nfz-byXqAgnz"
      },
      "id": "nfz-byXqAgnz"
    },
    {
      "cell_type": "markdown",
      "source": [
        "___"
      ],
      "metadata": {
        "id": "U0dAd4i0iCHo"
      },
      "id": "U0dAd4i0iCHo"
    },
    {
      "cell_type": "code",
      "source": [
        "!jupyter nbconvert --to html /content/Klussmann_ENews_StatisticalAnalysis.ipynb"
      ],
      "metadata": {
        "id": "kHvFWnrEM8Pu",
        "colab": {
          "base_uri": "https://localhost:8080/"
        },
        "outputId": "88e88e7b-73a0-4318-a645-5a56ff30a354"
      },
      "id": "kHvFWnrEM8Pu",
      "execution_count": null,
      "outputs": [
        {
          "output_type": "stream",
          "name": "stdout",
          "text": [
            "[NbConvertApp] WARNING | pattern '/content/Klussmann_ENews_StatisticalAnalysis.ipynb' matched no files\n",
            "This application is used to convert notebook files (*.ipynb)\n",
            "        to various other formats.\n",
            "\n",
            "        WARNING: THE COMMANDLINE INTERFACE MAY CHANGE IN FUTURE RELEASES.\n",
            "\n",
            "Options\n",
            "=======\n",
            "The options below are convenience aliases to configurable class-options,\n",
            "as listed in the \"Equivalent to\" description-line of the aliases.\n",
            "To see all configurable class-options for some <cmd>, use:\n",
            "    <cmd> --help-all\n",
            "\n",
            "--debug\n",
            "    set log level to logging.DEBUG (maximize logging output)\n",
            "    Equivalent to: [--Application.log_level=10]\n",
            "--show-config\n",
            "    Show the application's configuration (human-readable format)\n",
            "    Equivalent to: [--Application.show_config=True]\n",
            "--show-config-json\n",
            "    Show the application's configuration (json format)\n",
            "    Equivalent to: [--Application.show_config_json=True]\n",
            "--generate-config\n",
            "    generate default config file\n",
            "    Equivalent to: [--JupyterApp.generate_config=True]\n",
            "-y\n",
            "    Answer yes to any questions instead of prompting.\n",
            "    Equivalent to: [--JupyterApp.answer_yes=True]\n",
            "--execute\n",
            "    Execute the notebook prior to export.\n",
            "    Equivalent to: [--ExecutePreprocessor.enabled=True]\n",
            "--allow-errors\n",
            "    Continue notebook execution even if one of the cells throws an error and include the error message in the cell output (the default behaviour is to abort conversion). This flag is only relevant if '--execute' was specified, too.\n",
            "    Equivalent to: [--ExecutePreprocessor.allow_errors=True]\n",
            "--stdin\n",
            "    read a single notebook file from stdin. Write the resulting notebook with default basename 'notebook.*'\n",
            "    Equivalent to: [--NbConvertApp.from_stdin=True]\n",
            "--stdout\n",
            "    Write notebook output to stdout instead of files.\n",
            "    Equivalent to: [--NbConvertApp.writer_class=StdoutWriter]\n",
            "--inplace\n",
            "    Run nbconvert in place, overwriting the existing notebook (only \n",
            "            relevant when converting to notebook format)\n",
            "    Equivalent to: [--NbConvertApp.use_output_suffix=False --NbConvertApp.export_format=notebook --FilesWriter.build_directory=]\n",
            "--clear-output\n",
            "    Clear output of current file and save in place, \n",
            "            overwriting the existing notebook.\n",
            "    Equivalent to: [--NbConvertApp.use_output_suffix=False --NbConvertApp.export_format=notebook --FilesWriter.build_directory= --ClearOutputPreprocessor.enabled=True]\n",
            "--no-prompt\n",
            "    Exclude input and output prompts from converted document.\n",
            "    Equivalent to: [--TemplateExporter.exclude_input_prompt=True --TemplateExporter.exclude_output_prompt=True]\n",
            "--no-input\n",
            "    Exclude input cells and output prompts from converted document. \n",
            "            This mode is ideal for generating code-free reports.\n",
            "    Equivalent to: [--TemplateExporter.exclude_output_prompt=True --TemplateExporter.exclude_input=True]\n",
            "--log-level=<Enum>\n",
            "    Set the log level by value or name.\n",
            "    Choices: any of [0, 10, 20, 30, 40, 50, 'DEBUG', 'INFO', 'WARN', 'ERROR', 'CRITICAL']\n",
            "    Default: 30\n",
            "    Equivalent to: [--Application.log_level]\n",
            "--config=<Unicode>\n",
            "    Full path of a config file.\n",
            "    Default: ''\n",
            "    Equivalent to: [--JupyterApp.config_file]\n",
            "--to=<Unicode>\n",
            "    The export format to be used, either one of the built-in formats\n",
            "            ['asciidoc', 'custom', 'html', 'latex', 'markdown', 'notebook', 'pdf', 'python', 'rst', 'script', 'slides']\n",
            "            or a dotted object name that represents the import path for an\n",
            "            `Exporter` class\n",
            "    Default: 'html'\n",
            "    Equivalent to: [--NbConvertApp.export_format]\n",
            "--template=<Unicode>\n",
            "    Name of the template file to use\n",
            "    Default: ''\n",
            "    Equivalent to: [--TemplateExporter.template_file]\n",
            "--writer=<DottedObjectName>\n",
            "    Writer class used to write the \n",
            "                                        results of the conversion\n",
            "    Default: 'FilesWriter'\n",
            "    Equivalent to: [--NbConvertApp.writer_class]\n",
            "--post=<DottedOrNone>\n",
            "    PostProcessor class used to write the\n",
            "                                        results of the conversion\n",
            "    Default: ''\n",
            "    Equivalent to: [--NbConvertApp.postprocessor_class]\n",
            "--output=<Unicode>\n",
            "    overwrite base name use for output files.\n",
            "                can only be used when converting one notebook at a time.\n",
            "    Default: ''\n",
            "    Equivalent to: [--NbConvertApp.output_base]\n",
            "--output-dir=<Unicode>\n",
            "    Directory to write output(s) to. Defaults\n",
            "                                  to output to the directory of each notebook. To recover\n",
            "                                  previous default behaviour (outputting to the current \n",
            "                                  working directory) use . as the flag value.\n",
            "    Default: ''\n",
            "    Equivalent to: [--FilesWriter.build_directory]\n",
            "--reveal-prefix=<Unicode>\n",
            "    The URL prefix for reveal.js (version 3.x).\n",
            "            This defaults to the reveal CDN, but can be any url pointing to a copy \n",
            "            of reveal.js. \n",
            "            For speaker notes to work, this must be a relative path to a local \n",
            "            copy of reveal.js: e.g., \"reveal.js\".\n",
            "            If a relative path is given, it must be a subdirectory of the\n",
            "            current directory (from which the server is run).\n",
            "            See the usage documentation\n",
            "            (https://nbconvert.readthedocs.io/en/latest/usage.html#reveal-js-html-slideshow)\n",
            "            for more details.\n",
            "    Default: ''\n",
            "    Equivalent to: [--SlidesExporter.reveal_url_prefix]\n",
            "--nbformat=<Enum>\n",
            "    The nbformat version to write.\n",
            "            Use this to downgrade notebooks.\n",
            "    Choices: any of [1, 2, 3, 4]\n",
            "    Default: 4\n",
            "    Equivalent to: [--NotebookExporter.nbformat_version]\n",
            "\n",
            "Examples\n",
            "--------\n",
            "\n",
            "    The simplest way to use nbconvert is\n",
            "\n",
            "            > jupyter nbconvert mynotebook.ipynb\n",
            "\n",
            "            which will convert mynotebook.ipynb to the default format (probably HTML).\n",
            "\n",
            "            You can specify the export format with `--to`.\n",
            "            Options include ['asciidoc', 'custom', 'html', 'latex', 'markdown', 'notebook', 'pdf', 'python', 'rst', 'script', 'slides'].\n",
            "\n",
            "            > jupyter nbconvert --to latex mynotebook.ipynb\n",
            "\n",
            "            Both HTML and LaTeX support multiple output templates. LaTeX includes\n",
            "            'base', 'article' and 'report'.  HTML includes 'basic' and 'full'. You\n",
            "            can specify the flavor of the format used.\n",
            "\n",
            "            > jupyter nbconvert --to html --template basic mynotebook.ipynb\n",
            "\n",
            "            You can also pipe the output to stdout, rather than a file\n",
            "\n",
            "            > jupyter nbconvert mynotebook.ipynb --stdout\n",
            "\n",
            "            PDF is generated via latex\n",
            "\n",
            "            > jupyter nbconvert mynotebook.ipynb --to pdf\n",
            "\n",
            "            You can get (and serve) a Reveal.js-powered slideshow\n",
            "\n",
            "            > jupyter nbconvert myslides.ipynb --to slides --post serve\n",
            "\n",
            "            Multiple notebooks can be given at the command line in a couple of \n",
            "            different ways:\n",
            "\n",
            "            > jupyter nbconvert notebook*.ipynb\n",
            "            > jupyter nbconvert notebook1.ipynb notebook2.ipynb\n",
            "\n",
            "            or you can specify the notebooks list in a config file, containing::\n",
            "\n",
            "                c.NbConvertApp.notebooks = [\"my_notebook.ipynb\"]\n",
            "\n",
            "            > jupyter nbconvert --config mycfg.py\n",
            "\n",
            "To see all available configurables, use `--help-all`.\n",
            "\n"
          ]
        }
      ]
    }
  ]
}